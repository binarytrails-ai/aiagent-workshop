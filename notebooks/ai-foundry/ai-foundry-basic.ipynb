{
 "cells": [
  {
   "cell_type": "markdown",
   "metadata": {},
   "source": [
    "# Create an Azure AI Foundry Agent using Semantic Kernel\n"
   ]
  },
  {
   "attachments": {},
   "cell_type": "markdown",
   "metadata": {},
   "source": [
    "**Step 1**: Install NuGet packages\n",
    "\n",
    "To get started with Azure AI Foundry, you need to install the required NuGet packages:"
   ]
  },
  {
   "cell_type": "code",
   "execution_count": null,
   "metadata": {
    "polyglot_notebook": {
     "kernelName": "csharp"
    }
   },
   "outputs": [
    {
     "data": {
      "text/html": [
       "<div><div></div><div></div><div><strong>Installed Packages</strong><ul><li><span>DotNetEnv, 3.1.0</span></li><li><span>Microsoft.Extensions.AI.AzureAIInference, 9.5.0-preview.1.25265.7</span></li><li><span>Microsoft.SemanticKernel, 1.56.0</span></li><li><span>Microsoft.SemanticKernel.Agents.AzureAI, 1.56.0-preview</span></li><li><span>Microsoft.SemanticKernel.Agents.Core, 1.56.0</span></li></ul></div></div>"
      ]
     },
     "metadata": {},
     "output_type": "display_data"
    }
   ],
   "source": [
    "#r \"nuget: Microsoft.SemanticKernel\"\n",
    "#r \"nuget: Microsoft.Extensions.AI.AzureAIInference, 9.5.0-preview.1.25265.7\"\n",
    "#r \"nuget: Microsoft.SemanticKernel.Agents.Core\"\n",
    "#r \"nuget: DotNetEnv, 3.1.0\"\n",
    "#r \"nuget: Microsoft.SemanticKernel.Agents.AzureAI, 1.56.0-preview\""
   ]
  },
  {
   "cell_type": "markdown",
   "metadata": {},
   "source": [
    "**Step 2**: Read environment variables\n",
    "\n",
    "In this step, we load these variables from a `.env` file (if present) so that they can be accessed by the application."
   ]
  },
  {
   "cell_type": "code",
   "execution_count": 10,
   "metadata": {
    "polyglot_notebook": {
     "kernelName": "csharp"
    }
   },
   "outputs": [
    {
     "name": "stdout",
     "output_type": "stream",
     "text": [
      "Loaded environment variables from d:\\personal\\aiagent-workshop\\notebooks\\ai-foundry\\../..\\.env\r\n"
     ]
    }
   ],
   "source": [
    "using DotNetEnv;\n",
    "using System.IO;\n",
    "\n",
    "var envFilePath = Path.Combine(Environment.CurrentDirectory, \"../..\", \".env\");\n",
    "if (File.Exists(envFilePath))\n",
    "{\n",
    "    Env.Load(envFilePath);\n",
    "    Console.WriteLine($\"Loaded environment variables from {envFilePath}\");\n",
    "}\n",
    "else\n",
    "{\n",
    "    Console.WriteLine($\"No .env file found at {envFilePath}\");\n",
    "}"
   ]
  },
  {
   "attachments": {},
   "cell_type": "markdown",
   "metadata": {},
   "source": [
    "**Step 3**: Instantiate the Project client\n",
    "\n",
    "Create an instance of the `PersistentAgentsClient` using the endpoint URL and the Azure AI Foundry project.\n",
    "\n",
    "Note that **DefaultAzureCredential** is used for authentication. To successfully authenticate, log in to the Azure CLI using `az login --use-device-code`."
   ]
  },
  {
   "cell_type": "code",
   "execution_count": 11,
   "metadata": {
    "dotnet_interactive": {
     "language": "csharp"
    },
    "polyglot_notebook": {
     "kernelName": "csharp"
    }
   },
   "outputs": [],
   "source": [
    "using Microsoft.SemanticKernel;\n",
    "using Microsoft.SemanticKernel.ChatCompletion; \n",
    "using Microsoft.SemanticKernel.Agents.AzureAI;\n",
    "using Azure.Identity;\n",
    "\n",
    "\n",
    "var projectEndpoint = Environment.GetEnvironmentVariable(\"AZURE_AI_PROJECT_ENDPOINT\");\n",
    "#pragma warning disable SKEXP0110 // Type is for evaluation purposes only and is subject to change or removal in future updates. Suppress this diagnostic to proceed.\n",
    "        var client = AzureAIAgent.CreateAgentsClient(projectEndpoint, new DefaultAzureCredential());\n",
    "#pragma warning restore SKEXP0110 // Type is for evaluation purposes only and is subject to change or removal in future updates."
   ]
  },
  {
   "cell_type": "markdown",
   "metadata": {},
   "source": [
    "**Step 4**: Define your agent\n",
    "\n",
    "In this step, we define the attributes for the agent, including its name, instructions, tools (if any), and the model to be used. "
   ]
  },
  {
   "cell_type": "code",
   "execution_count": 12,
   "metadata": {
    "polyglot_notebook": {
     "kernelName": "csharp"
    }
   },
   "outputs": [],
   "source": [
    "var modelId = Environment.GetEnvironmentVariable(\"MODEL\");\n",
    "var agentName = \"WeatherAgent\";\n",
    "var agentInstructions = @\"\n",
    "You are a weather assistant. Use the WeatherPlugin to answer questions about the weather in any city.\n",
    "If the user asks for other information, politely decline and suggest they ask about the weather instead.\n",
    "If the city is not specified, ask the user to provide a city name.\n",
    "If the weather data is not available, inform the user that the weather information could not be retrieved.\";\n",
    "\n",
    "var agentDefinition = await client.Administration.CreateAgentAsync(\n",
    "    modelId,\n",
    "    name: agentName,\n",
    "    instructions: agentInstructions,\n",
    "    tools: [],\n",
    "    toolResources: null);"
   ]
  },
  {
   "cell_type": "markdown",
   "metadata": {},
   "source": [
    "**Step 5**: Create the agent\n",
    "\n",
    "Finally, we create the agent using the `CreateAgentAsync` method of the `PersistentAgentsClient`. This method takes the agent definition and returns the created agent."
   ]
  },
  {
   "cell_type": "code",
   "execution_count": 13,
   "metadata": {
    "polyglot_notebook": {
     "kernelName": "csharp"
    }
   },
   "outputs": [],
   "source": [
    "using Microsoft.SemanticKernel;\n",
    "using Microsoft.SemanticKernel.ChatCompletion; \n",
    "using Microsoft.SemanticKernel.Agents.AzureAI;\n",
    "\n",
    "#pragma warning disable SKEXP0110 // Type is for evaluation purposes only and is subject to change or removal in future updates. Suppress this diagnostic to proceed.\n",
    "       \n",
    "var agent = new AzureAIAgent(agentDefinition, client);\n",
    "\n",
    "#pragma warning restore SKEXP0110 // Type is for evaluation purposes only and is subject to change or removal in future updates."
   ]
  },
  {
   "cell_type": "markdown",
   "metadata": {},
   "source": [
    "**Step 5**: Creat a new thread for the agent"
   ]
  },
  {
   "cell_type": "code",
   "execution_count": 14,
   "metadata": {
    "polyglot_notebook": {
     "kernelName": "csharp"
    }
   },
   "outputs": [],
   "source": [
    "using Microsoft.SemanticKernel;\n",
    "using Microsoft.SemanticKernel.ChatCompletion; \n",
    "using Microsoft.SemanticKernel.Agents.AzureAI;\n",
    "\n",
    "#pragma warning disable SKEXP0110 // Type is for evaluation purposes only and is subject to change or removal in future updates. Suppress this diagnostic to proceed.\n",
    "       \n",
    "var thread = new AzureAIAgentThread(client);\n",
    "\n",
    "#pragma warning restore SKEXP0110 // Type is for evaluation purposes only and is subject to change or removal in future updates."
   ]
  },
  {
   "cell_type": "markdown",
   "metadata": {},
   "source": [
    "**Step 6** : Create a new message for the agent"
   ]
  },
  {
   "cell_type": "code",
   "execution_count": null,
   "metadata": {
    "polyglot_notebook": {
     "kernelName": "csharp"
    }
   },
   "outputs": [
    {
     "name": "stdout",
     "output_type": "stream",
     "text": [
      "assistant: Australia is a large country, so weather conditions can vary greatly depending on the city or region. Could you please specify a city in Australia? For example, Sydney, Melbourne, Perth, or Brisbane?\r\n"
     ]
    }
   ],
   "source": [
    "    #pragma warning disable SKEXP0110 // Type is for evaluation purposes only and is subject to change or removal in future updates. Suppress this diagnostic to proceed.\n",
    "\n",
    "    var invokeAgentAsync = async (AzureAIAgentThread agentThread, string input) =>\n",
    "    {\n",
    "        ChatMessageContent message = new(AuthorRole.User, input);\n",
    "        await foreach (ChatMessageContent response in agent.InvokeAsync(message, agentThread))\n",
    "        {\n",
    "            Console.WriteLine($\"{response.Role}: {response.Content}\");\n",
    "        }\n",
    "    };\n",
    "\n",
    "    await invokeAgentAsync(thread, \"What is the weather in Australia?\");\n",
    "    #pragma warning restore SKEXP0110 // Type is for evaluation purposes only and is subject to change or removal in future updates."
   ]
  },
  {
   "cell_type": "markdown",
   "metadata": {},
   "source": [
    "**Step 7**: Create additional messages to the same thread"
   ]
  },
  {
   "cell_type": "code",
   "execution_count": 16,
   "metadata": {
    "polyglot_notebook": {
     "kernelName": "csharp"
    }
   },
   "outputs": [
    {
     "name": "stdout",
     "output_type": "stream",
     "text": [
      "assistant: It seems there was an issue retrieving the weather information for Paris. I apologize for the inconvenience. Could you please try asking again?\r\n"
     ]
    }
   ],
   "source": [
    " await invokeAgentAsync(thread, \"How about Paris?\");"
   ]
  },
  {
   "cell_type": "markdown",
   "metadata": {},
   "source": [
    "**Step 8**: Clean up\n",
    "\n",
    "Delete the agent and the thread to clean up resources."
   ]
  },
  {
   "cell_type": "code",
   "execution_count": 17,
   "metadata": {
    "polyglot_notebook": {
     "kernelName": "csharp"
    }
   },
   "outputs": [],
   "source": [
    "await thread.DeleteAsync();\n",
    "await client.Administration.DeleteAgentAsync(agent.Id);"
   ]
  }
 ],
 "metadata": {
  "kernelspec": {
   "display_name": ".NET (C#)",
   "language": "C#",
   "name": ".net-csharp"
  },
  "language_info": {
   "name": "polyglot-notebook"
  },
  "polyglot_notebook": {
   "kernelInfo": {
    "defaultKernelName": "csharp",
    "items": [
     {
      "aliases": [],
      "name": "csharp"
     }
    ]
   }
  }
 },
 "nbformat": 4,
 "nbformat_minor": 2
}
