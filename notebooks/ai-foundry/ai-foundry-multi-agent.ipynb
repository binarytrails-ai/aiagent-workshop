{
 "cells": [
  {
   "cell_type": "markdown",
   "metadata": {},
   "source": [
    "# Multi-Agent Solution: Connected Agent for Inventory and Policy Q&A\n",
    "\n",
    "This notebook demonstrates how to build a multi-agent solution using Azure AI Foundry, where a main agent delegates tasks to a specialized connected agent:\n",
    "- **Knowledge Base Agent**: Answers questions about company policies (e.g., return policy) and inventory using a file-based knowledge base.\n",
    "\n",
    "The main agent routes user queries to the connected agent, following the [Connected Agents pattern](https://learn.microsoft.com/en-us/azure/ai-services/agents/how-to/connected-agents?pivots=portal)."
   ]
  },
  {
   "cell_type": "markdown",
   "metadata": {},
   "source": [
    "**Step 1**: Install NuGet packages\n",
    "\n",
    "To get started with Azure AI Foundry, you need to install the required NuGet packages:\n",
    "- `Microsoft.SemanticKernel`\n",
    "- `Microsoft.Extensions.AI.AzureAIInference`\n",
    "- `Microsoft.SemanticKernel.Agents.Core`\n",
    "- `DotNetEnv`\n",
    "- `Microsoft.SemanticKernel.Agents.AzureAI`"
   ]
  },
  {
   "cell_type": "code",
   "execution_count": 36,
   "metadata": {
    "polyglot_notebook": {
     "kernelName": "csharp"
    }
   },
   "outputs": [
    {
     "data": {
      "text/html": [
       "<div><div></div><div></div><div><strong>Installed Packages</strong><ul><li><span>DotNetEnv, 3.1.0</span></li><li><span>Microsoft.Extensions.AI.AzureAIInference, 9.5.0-preview.1.25265.7</span></li><li><span>Microsoft.SemanticKernel, 1.56.0</span></li><li><span>Microsoft.SemanticKernel.Agents.AzureAI, 1.56.0-preview</span></li><li><span>Microsoft.SemanticKernel.Agents.Core, 1.56.0</span></li></ul></div></div>"
      ]
     },
     "metadata": {},
     "output_type": "display_data"
    }
   ],
   "source": [
    "#r \"nuget: Microsoft.SemanticKernel\"\n",
    "#r \"nuget: Microsoft.Extensions.AI.AzureAIInference, 9.5.0-preview.1.25265.7\"\n",
    "#r \"nuget: Microsoft.SemanticKernel.Agents.Core\"\n",
    "#r \"nuget: DotNetEnv, 3.1.0\"\n",
    "#r \"nuget: Microsoft.SemanticKernel.Agents.AzureAI, 1.56.0-preview\""
   ]
  },
  {
   "cell_type": "markdown",
   "metadata": {},
   "source": [
    "**Step 2**: Read environment variables\n",
    "\n",
    "In this step, we load these variables from a `.env` file (if present) so that they can be accessed by the application."
   ]
  },
  {
   "cell_type": "code",
   "execution_count": 37,
   "metadata": {
    "polyglot_notebook": {
     "kernelName": "csharp"
    }
   },
   "outputs": [
    {
     "name": "stdout",
     "output_type": "stream",
     "text": [
      "Loaded environment variables from d:\\personal\\aiagent-workshop\\notebooks\\ai-foundry\\../..\\.env\r\n"
     ]
    }
   ],
   "source": [
    "using DotNetEnv;\n",
    "using System.IO;\n",
    "\n",
    "var envFilePath = Path.Combine(Environment.CurrentDirectory, \"../..\", \".env\");\n",
    "if (File.Exists(envFilePath))\n",
    "{\n",
    "    Env.Load(envFilePath);\n",
    "    Console.WriteLine($\"Loaded environment variables from {envFilePath}\");\n",
    "}\n",
    "else\n",
    "{\n",
    "    Console.WriteLine($\"No .env file found at {envFilePath}\");\n",
    "}"
   ]
  },
  {
   "cell_type": "markdown",
   "metadata": {},
   "source": [
    "**Step 3**: Instantiate the Project client\n",
    "\n",
    "Create an instance of the `PersistentAgentsClient` using the endpoint URL and the Azure AI Foundry project."
   ]
  },
  {
   "cell_type": "code",
   "execution_count": 38,
   "metadata": {
    "polyglot_notebook": {
     "kernelName": "csharp"
    }
   },
   "outputs": [],
   "source": [
    "using Microsoft.SemanticKernel;\n",
    "using Microsoft.SemanticKernel.ChatCompletion;\n",
    "using Microsoft.SemanticKernel.Agents.AzureAI;\n",
    "using Azure.Identity;\n",
    "using Azure.AI.Agents.Persistent;\n",
    "\n",
    "var projectEndpoint = Environment.GetEnvironmentVariable(\"AZURE_AI_PROJECT_ENDPOINT\");\n",
    "#pragma warning disable SKEXP0110\n",
    "var client = AzureAIAgent.CreateAgentsClient(projectEndpoint, new DefaultAzureCredential());\n",
    "#pragma warning restore SKEXP0110"
   ]
  },
  {
   "cell_type": "markdown",
   "metadata": {},
   "source": [
    "**Step 4a**: Create the Knowledge Base Agent (Company Policy Q&A)\n",
    "\n",
    "This agent will answer questions about company policies, especially the return policy, using the provided documentation."
   ]
  },
  {
   "cell_type": "code",
   "execution_count": 39,
   "metadata": {
    "polyglot_notebook": {
     "kernelName": "csharp"
    }
   },
   "outputs": [],
   "source": [
    "var modelId = Environment.GetEnvironmentVariable(\"MODEL\");\n",
    "var policyAgentName = \"ContosoPolicyAgent\";\n",
    "var policyAgentInstructions = @\"\n",
    "    You are a helpful assistant for Contoso Bikes.\n",
    "    Answer questions about company policies, especially the return policy, using the provided documentation.\n",
    "    If a question is not covered by the documentation, politely inform the user.\n",
    "\";\n",
    "var policyFilePath = Path.Combine(Environment.CurrentDirectory, \"../../resources/contoso-bikes.pdf\");\n",
    "var policyFileStream = File.OpenRead(policyFilePath);\n",
    "PersistentAgentFileInfo policyFileInfo = await client.Files.UploadFileAsync(policyFileStream, PersistentAgentFilePurpose.Agents, \"contoso-bikes.pdf\");\n",
    "PersistentAgentsVectorStore policyFileStore = await client.VectorStores.CreateVectorStoreAsync([policyFileInfo.Id]);\n",
    "var policyAgentDef = await client.Administration.CreateAgentAsync(\n",
    "    modelId,\n",
    "    name: policyAgentName,\n",
    "    instructions: policyAgentInstructions,\n",
    "    tools: [new FileSearchToolDefinition()],\n",
    "    toolResources: new()\n",
    "    {\n",
    "        FileSearch = new()\n",
    "        {\n",
    "            VectorStoreIds = { policyFileStore.Id },\n",
    "        }\n",
    "    });\n",
    "\n",
    "\n",
    "#pragma warning disable SKEXP0110 // Type is for evaluation purposes only and is subject to change or removal in future updates. Suppress this diagnostic to proceed.\n",
    "\n",
    "var policyAgent=  new AzureAIAgent(policyAgentDef,client);\n",
    "\n",
    "#pragma warning restore SKEXP0110 // Type is for evaluation purposes only and is subject to change or removal in future updates."
   ]
  },
  {
   "cell_type": "markdown",
   "metadata": {},
   "source": [
    "**Step 4b**: Create the Inventory Management Agent\n",
    "\n",
    "This agent will answer questions about bike inventory using the Contoso Bike Store API."
   ]
  },
  {
   "cell_type": "code",
   "execution_count": 40,
   "metadata": {
    "polyglot_notebook": {
     "kernelName": "csharp"
    }
   },
   "outputs": [],
   "source": [
    "// Inventory Management Agent (Action Tool)\n",
    "var inventoryAgentName = \"ContosoInventoryAgent\";\n",
    "var inventoryAgentInstructions = @\"\n",
    "You are a knowledgeable and friendly assistant for the Contoso Bike Store.\n",
    "Your job is to help customers find information about bikes, check inventory using the Contoso Bike Store API.\n",
    "Always provide clear, concise, and accurate responses. If you need more details from the user, ask clarifying questions.\n",
    "Use the API to retrieve up-to-date information.\n",
    "\";\n",
    "var inventoryApiPath = Path.Combine(Environment.CurrentDirectory, \"../../resources/bike-inventory-api-swagger.json\");\n",
    "var inventoryApiData = File.ReadAllBytes(inventoryApiPath);\n",
    "OpenApiAnonymousAuthDetails inventoryOaiAuth = new();\n",
    "OpenApiToolDefinition inventoryOpenApiTool = new(\n",
    "    name: \"ContosoBikeStoreAPI\",\n",
    "    description: \"The API provides information about the bikes in the catalog for the Contoso Bike Store.\",\n",
    "    spec: BinaryData.FromBytes(inventoryApiData),\n",
    "    openApiAuthentication: inventoryOaiAuth,\n",
    "    defaultParams: [\"format\"]\n",
    ");\n",
    "var inventoryAgentDef = await client.Administration.CreateAgentAsync(\n",
    "    modelId,\n",
    "    name: inventoryAgentName,\n",
    "    instructions: inventoryAgentInstructions,\n",
    "    tools: [inventoryOpenApiTool],\n",
    "    toolResources: null);\n",
    "\n",
    "\n",
    "#pragma warning disable SKEXP0110 // Type is for evaluation purposes only and is subject to change or removal in future updates. Suppress this diagnostic to proceed.\n",
    "\n",
    "var inventoryAgent=  new AzureAIAgent(inventoryAgentDef,client);\n",
    "\n",
    "#pragma warning restore SKEXP0110 // Type is for evaluation purposes only and is subject to change or removal in future updates.      \n"
   ]
  },
  {
   "cell_type": "markdown",
   "metadata": {},
   "source": [
    "**Step 5**: Create the Main Orchestrator Agent\n",
    "\n",
    "The main agent will delegate to the policy Q&A agent using ConnectedAgentToolDefinition."
   ]
  },
  {
   "cell_type": "code",
   "execution_count": 41,
   "metadata": {
    "polyglot_notebook": {
     "kernelName": "csharp"
    }
   },
   "outputs": [],
   "source": [
    "var mainAgentName = \"ContosoMainAgent\";\n",
    "var mainAgentInstructions = @\"\n",
    "You are the main assistant for Contoso Bike Store. \n",
    "- If the user asks about company policies (such as returns, warranties, or store rules), delegate to the policy assistant.\n",
    "- If the user asks about bike inventory, availability, or product details, delegate to the inventory assistant.\n",
    "- If the question is unrelated to these topics, politely inform the user that you can only assist with company policies and inventory questions.\n",
    "\";\n",
    "\n",
    "ConnectedAgentToolDefinition policyAgentConnection = new(new ConnectedAgentDetails(policyAgent.Id, policyAgent.Name, \"Answers questions about company policies, especially the return policy.\"));\n",
    "ConnectedAgentToolDefinition inventoryAgentConnection = new(new ConnectedAgentDetails(inventoryAgent.Id, inventoryAgent.Name, \"Answers questions about the inventory of bikes in the Contoso Bike Store.\"));\n",
    "\n",
    "var mainAgentDef = await client.Administration.CreateAgentAsync(\n",
    "    modelId,\n",
    "    name: mainAgentName,\n",
    "    instructions: mainAgentInstructions,\n",
    "    tools: [policyAgentConnection, inventoryAgentConnection],\n",
    "    toolResources: null);"
   ]
  },
  {
   "cell_type": "markdown",
   "metadata": {},
   "source": [
    "**Step 6**: Create the Main Agent Instance and Thread"
   ]
  },
  {
   "cell_type": "code",
   "execution_count": 42,
   "metadata": {
    "polyglot_notebook": {
     "kernelName": "csharp"
    }
   },
   "outputs": [],
   "source": [
    "#pragma warning disable SKEXP0110\n",
    "var mainAgent = new AzureAIAgent(mainAgentDef, client);\n",
    "var thread = new AzureAIAgentThread(client);\n",
    "#pragma warning restore SKEXP0110"
   ]
  },
  {
   "cell_type": "markdown",
   "metadata": {},
   "source": [
    "**Step 7**: Interact with the Multi-Agent System\n",
    "\n",
    "You can now interact with the main agent, which will route your queries to the connected agent."
   ]
  },
  {
   "cell_type": "code",
   "execution_count": 43,
   "metadata": {
    "polyglot_notebook": {
     "kernelName": "csharp"
    }
   },
   "outputs": [
    {
     "name": "stdout",
     "output_type": "stream",
     "text": [
      "assistant: Contoso Bikes' return policy includes the following:\n",
      "\n",
      "1. **Eligibility**: Items must be unused, in original packaging, with proof of purchase. Exclusions include custom bikes, gift cards, and clearance items.\n",
      "2. **Return Period**: Most items can be returned within 30 days of delivery for a refund or exchange.\n",
      "3. **Process**: Contact customer service for an RMA number and shipping instructions, securely package the item, and use a trackable shipping method.\n",
      "4. **Refunds/Exchanges**: Refunds are credited to the original payment method within seven business days after inspection. Exchanges depend on availability.\n",
      "5. **Shipping Costs**: Return shipping costs are covered by the customer unless it’s due to a defect or error from Contoso (prepaid label provided). International returns may incur additional fees.\n",
      "6. **Damaged/Defective Items**: Report within seven days of delivery for a replacement or refund at no extra cost .\n",
      "\n",
      "Let me know if you'd like further assistance!\r\n"
     ]
    }
   ],
   "source": [
    "#pragma warning disable SKEXP0110 // Type is for evaluation purposes only and is subject to change or removal in future updates. Suppress this diagnostic to proceed.\n",
    "\n",
    "var invokeAgentAsync = async (AzureAIAgentThread agentThread, string input) =>\n",
    "{\n",
    "    ChatMessageContent message = new(AuthorRole.User, input);\n",
    "    await foreach (ChatMessageContent response in mainAgent.InvokeAsync(message, agentThread))\n",
    "    {\n",
    "        Console.WriteLine($\"{response.Role}: {response.Content}\");\n",
    "    }\n",
    "};\n",
    "\n",
    "#pragma warning restore SKEXP0110 // Type is for evaluation purposes only and is subject to change or removal in future updates.\n",
    "\n",
    "// Example 1: Ask about return policy\n",
    "await invokeAgentAsync(thread, \"What is the return policy at Contoso Bikes?\");\n",
    "\n",
    "// // Example 2: Ask about company policy\n",
    "// await invokeAgentAsync(thread, \"Are there any items that cannot be returned?\");"
   ]
  },
  {
   "cell_type": "markdown",
   "metadata": {},
   "source": [
    "Now ask about the available bikes at a specific location.\n"
   ]
  },
  {
   "cell_type": "code",
   "execution_count": 44,
   "metadata": {
    "polyglot_notebook": {
     "kernelName": "csharp"
    }
   },
   "outputs": [
    {
     "name": "stdout",
     "output_type": "stream",
     "text": [
      "assistant: The **Contoso Mountain X1** is available at the **Seattle - Northgate store**, with **8 units in stock**, priced at **$1199.99**. It’s a durable mountain bike built for tough terrains. Let me know if you’d like to place an order or need more details!\r\n"
     ]
    }
   ],
   "source": [
    "await invokeAgentAsync(thread, \"Do you have Contoso Mountain X1 at the Seattle store?\");"
   ]
  },
  {
   "cell_type": "markdown",
   "metadata": {},
   "source": [
    "**Step 8**: Clean Up Resources\n",
    "\n",
    "Delete the thread and all agents to clean up resources."
   ]
  },
  {
   "cell_type": "code",
   "execution_count": null,
   "metadata": {
    "polyglot_notebook": {
     "kernelName": "csharp"
    }
   },
   "outputs": [],
   "source": [
    "await thread.DeleteAsync();\n",
    "await client.Administration.DeleteAgentAsync(policyAgent.Id);\n",
    "await client.Administration.DeleteAgentAsync(inventoryAgent.Id);\n",
    "await client.Administration.DeleteAgentAsync(mainAgent.Id);"
   ]
  }
 ],
 "metadata": {
  "kernelspec": {
   "display_name": ".NET (C#)",
   "language": "C#",
   "name": ".net-csharp"
  },
  "language_info": {
   "name": "polyglot-notebook"
  },
  "polyglot_notebook": {
   "kernelInfo": {
    "defaultKernelName": "csharp",
    "items": [
     {
      "aliases": [],
      "name": "csharp"
     }
    ]
   }
  }
 },
 "nbformat": 4,
 "nbformat_minor": 2
}
