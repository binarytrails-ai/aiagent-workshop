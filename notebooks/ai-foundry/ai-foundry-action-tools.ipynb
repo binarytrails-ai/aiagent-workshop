{
 "cells": [
  {
   "cell_type": "markdown",
   "metadata": {},
   "source": [
    "# Using Action Tools\n"
   ]
  },
  {
   "attachments": {},
   "cell_type": "markdown",
   "metadata": {},
   "source": [
    "**Step 1**: Install NuGet packages\n",
    "\n",
    "To get started with Azure AI Foundry, you need to install the required NuGet packages:"
   ]
  },
  {
   "cell_type": "code",
   "execution_count": 61,
   "metadata": {
    "polyglot_notebook": {
     "kernelName": "csharp"
    }
   },
   "outputs": [
    {
     "data": {
      "text/html": [
       "<div><div></div><div></div><div><strong>Installed Packages</strong><ul><li><span>DotNetEnv, 3.1.0</span></li><li><span>Microsoft.Extensions.AI.AzureAIInference, 9.5.0-preview.1.25265.7</span></li><li><span>Microsoft.SemanticKernel, 1.56.0</span></li><li><span>Microsoft.SemanticKernel.Agents.AzureAI, 1.56.0-preview</span></li><li><span>Microsoft.SemanticKernel.Agents.Core, 1.56.0</span></li></ul></div></div>"
      ]
     },
     "metadata": {},
     "output_type": "display_data"
    }
   ],
   "source": [
    "#r \"nuget: Microsoft.SemanticKernel\"\n",
    "#r \"nuget: Microsoft.Extensions.AI.AzureAIInference, 9.5.0-preview.1.25265.7\"\n",
    "#r \"nuget: Microsoft.SemanticKernel.Agents.Core\"\n",
    "#r \"nuget: DotNetEnv, 3.1.0\"\n",
    "#r \"nuget: Microsoft.SemanticKernel.Agents.AzureAI, 1.56.0-preview\""
   ]
  },
  {
   "cell_type": "markdown",
   "metadata": {},
   "source": [
    "**Step 2**: Read environment variables\n",
    "\n",
    "In this step, we load these variables from a `.env` file (if present) so that they can be accessed by the application."
   ]
  },
  {
   "cell_type": "code",
   "execution_count": 62,
   "metadata": {
    "polyglot_notebook": {
     "kernelName": "csharp"
    }
   },
   "outputs": [
    {
     "name": "stdout",
     "output_type": "stream",
     "text": [
      "Loaded environment variables from d:\\personal\\aiagent-workshop\\notebooks\\ai-foundry\\../..\\.env\r\n"
     ]
    }
   ],
   "source": [
    "using DotNetEnv;\n",
    "using System.IO;\n",
    "\n",
    "var envFilePath = Path.Combine(Environment.CurrentDirectory, \"../..\", \".env\");\n",
    "if (File.Exists(envFilePath))\n",
    "{\n",
    "    Env.Load(envFilePath);\n",
    "    Console.WriteLine($\"Loaded environment variables from {envFilePath}\");\n",
    "}\n",
    "else\n",
    "{\n",
    "    Console.WriteLine($\"No .env file found at {envFilePath}\");\n",
    "}"
   ]
  },
  {
   "attachments": {},
   "cell_type": "markdown",
   "metadata": {},
   "source": [
    "**Step 3**: Instantiate the Project Client\n",
    "\n",
    "Create a `PersistentAgentsClient` using your Azure AI Foundry project endpoint.\n",
    "\n",
    "Note that **DefaultAzureCredential** is used for authentication. Run `az login --use-device-code` if you haven't already."
   ]
  },
  {
   "cell_type": "code",
   "execution_count": 63,
   "metadata": {
    "dotnet_interactive": {
     "language": "csharp"
    },
    "polyglot_notebook": {
     "kernelName": "csharp"
    }
   },
   "outputs": [],
   "source": [
    "using Microsoft.SemanticKernel;\n",
    "using Microsoft.SemanticKernel.ChatCompletion; \n",
    "using Microsoft.SemanticKernel.Agents.AzureAI;\n",
    "using Azure.Identity;\n",
    "\n",
    "var projectEndpoint = Environment.GetEnvironmentVariable(\"AZURE_AI_PROJECT_ENDPOINT\");\n",
    "#pragma warning disable SKEXP0110 // Type is for evaluation purposes only and is subject to change or removal in future updates. Suppress this diagnostic to proceed.\n",
    "var client = AzureAIAgent.CreateAgentsClient(projectEndpoint, new DefaultAzureCredential());\n",
    "#pragma warning restore SKEXP0110 // Type is for evaluation purposes only and is subject to change or removal in future updates."
   ]
  },
  {
   "cell_type": "markdown",
   "metadata": {},
   "source": [
    "# Bike Inventory Agent\n",
    "This section demonstrates how to create a bike order management agent that can handle customer orders, and provide an update on the status of an order."
   ]
  },
  {
   "cell_type": "markdown",
   "metadata": {},
   "source": [
    "**Step 1**: Define your agent\n",
    "\n",
    "In this step, define the attributes for the agent, including its name, instructions, tools (if any), and the model to use."
   ]
  },
  {
   "cell_type": "code",
   "execution_count": null,
   "metadata": {
    "polyglot_notebook": {
     "kernelName": "csharp"
    }
   },
   "outputs": [],
   "source": [
    "using Microsoft.SemanticKernel;\n",
    "using Microsoft.SemanticKernel.ChatCompletion;\n",
    "using Microsoft.SemanticKernel.Agents.AzureAI;\n",
    "using Azure.Identity;\n",
    "using Azure.AI.Agents.Persistent;\n",
    "\n",
    "\n",
    "var modelId = Environment.GetEnvironmentVariable(\"MODEL\");\n",
    "var agentName = \"ContosoInventoryAgent\";\n",
    "var agentInstructions = @\"\n",
    "You are a knowledgeable and friendly assistant for the Contoso Bike Store.\n",
    "Your job is to help customers find information about bikes, check inventory using the Contoso Bike Store API.\n",
    "Always provide clear, concise, and accurate responses. If you need more details from the user, ask clarifying questions.\n",
    "Use the API to retrieve up-to-date information.\n",
    "\"; \n",
    "\n",
    "var filePath = Path.Combine(Environment.CurrentDirectory, \"../../resources/bike-inventory-api-swagger.json\");\n",
    "var fileData = File.ReadAllBytes(filePath);\n",
    "\n",
    "OpenApiAnonymousAuthDetails oaiAuth = new();\n",
    "OpenApiToolDefinition openApiTool = new(\n",
    "    name: \"ContosoBikeStoreAPI\",\n",
    "    description: \"The API provides information about the bikes in the catalog for the Contoso Bike Store.\",\n",
    "    spec: BinaryData.FromBytes(fileData),\n",
    "    openApiAuthentication: oaiAuth,\n",
    "    defaultParams: [\"format\"]\n",
    ");\n",
    "\n",
    "var agentDefinition = await client.Administration.CreateAgentAsync(\n",
    "    modelId,\n",
    "    name: agentName,\n",
    "    instructions: agentInstructions,\n",
    "    tools: [openApiTool],\n",
    "    toolResources: null);"
   ]
  },
  {
   "cell_type": "markdown",
   "metadata": {},
   "source": [
    "**Step 2**: Create the agent\n",
    "\n",
    "Finally, we create the agent using the `CreateAgentAsync` method of the `PersistentAgentsClient`. This method takes the agent definition and returns the created agent."
   ]
  },
  {
   "cell_type": "code",
   "execution_count": 70,
   "metadata": {
    "polyglot_notebook": {
     "kernelName": "csharp"
    }
   },
   "outputs": [],
   "source": [
    "using Microsoft.SemanticKernel;\n",
    "using Microsoft.SemanticKernel.ChatCompletion; \n",
    "using Microsoft.SemanticKernel.Agents.AzureAI;\n",
    "\n",
    "#pragma warning disable SKEXP0110 // Type is for evaluation purposes only and is subject to change or removal in future updates. Suppress this diagnostic to proceed.\n",
    "       \n",
    "var agent = new AzureAIAgent(agentDefinition, client);\n",
    "\n",
    "#pragma warning restore SKEXP0110 // Type is for evaluation purposes only and is subject to change or removal in future updates."
   ]
  },
  {
   "cell_type": "markdown",
   "metadata": {},
   "source": [
    "**Step 3**: Create a new thread for the agent"
   ]
  },
  {
   "cell_type": "code",
   "execution_count": 71,
   "metadata": {
    "polyglot_notebook": {
     "kernelName": "csharp"
    }
   },
   "outputs": [],
   "source": [
    "using Microsoft.SemanticKernel;\n",
    "using Microsoft.SemanticKernel.ChatCompletion; \n",
    "using Microsoft.SemanticKernel.Agents.AzureAI;\n",
    "\n",
    "#pragma warning disable SKEXP0110 // Type is for evaluation purposes only and is subject to change or removal in future updates. Suppress this diagnostic to proceed.\n",
    "       \n",
    "var thread = new AzureAIAgentThread(client);\n",
    "\n",
    "#pragma warning restore SKEXP0110 // Type is for evaluation purposes only and is subject to change or removal in future updates."
   ]
  },
  {
   "cell_type": "markdown",
   "metadata": {},
   "source": [
    "**Step 4** : Interact with the Agent"
   ]
  },
  {
   "cell_type": "code",
   "execution_count": 72,
   "metadata": {
    "polyglot_notebook": {
     "kernelName": "csharp"
    }
   },
   "outputs": [
    {
     "name": "stdout",
     "output_type": "stream",
     "text": [
      "assistant: Here is an overview of the bikes currently in stock at the Contoso Bike Store:\n",
      "\n",
      "1. **Contoso Roadster 200** - Lightweight road bike for speed and endurance, price: $899.99 (Stock: 12, Seattle - Downtown).\n",
      "2. **Contoso Mountain X1** - Durable mountain bike for tough terrains, price: $1,199.99 (Stock: 8, Seattle - Northgate).\n",
      "3. **Contoso City Cruiser** - Comfortable bike for daily city commuting, price: $499.99 (Stock: 15, Portland - Central).\n",
      "4. **Contoso Kids Sprint** - Safe and colorful bike for children, price: $299.99 (Stock: 20, Portland - Eastside).\n",
      "5. **Contoso E-Bike Pro** - Electric bike with long battery life, price: $1,799.99 (Stock: 5, San Francisco - Market Street).\n",
      "6. **Contoso Gravel 360** - Versatile gravel bike for mixed surfaces, price: $1,099.99 (Stock: 10, San Francisco - Mission).\n",
      "7. **Contoso Folding Go** - Compact folding bike for easy storage, price: $649.99 (Stock: 7, Austin - Downtown).\n",
      "8. **Contoso Tandem Duo** - Tandem bike for two riders, price: $1,499.99 (Stock: 3, Austin - Riverside).\n",
      "9. **Contoso Fat Tire FX** - Fat tire bike for sand and snow adventures, price: $1,299.99 (Stock: 6, Denver - Highlands).\n",
      "10. **Contoso Classic 50** - Vintage-style bike with modern components, price: $799.99 (Stock: 9, Denver - Cherry Creek).\n",
      "11. **Contoso Urban Sprint** - Fast bike for city streets, price: $699.99 (Stock: 11, Seattle - Downtown).\n",
      "12. **Contoso Trail Blazer** - Trail bike for off-road paths, price: $1,099.99 (Stock: 4, Seattle - Northgate).\n",
      "13. **Contoso Mini Rider** - A small bike for young children, price: $199.99 (Stock: 18, Portland - Eastside).\n",
      "14. **Contoso Hybrid 700** - Hybrid bike for city and trails, price: $899.99 (Stock: 13, Portland - Central).\n",
      "\n",
      "... and many more!\n",
      "\n",
      "Would you like me to help you narrow down your options or provide more details about any specific bike?\r\n"
     ]
    }
   ],
   "source": [
    "#pragma warning disable SKEXP0110 // Type is for evaluation purposes only and is subject to change or removal in future updates. Suppress this diagnostic to proceed.\n",
    "\n",
    "    var invokeAgentAsync = async (AzureAIAgentThread agentThread, string input) =>\n",
    "    {\n",
    "        ChatMessageContent message = new(AuthorRole.User, input);\n",
    "        await foreach (ChatMessageContent response in agent.InvokeAsync(message, agentThread))\n",
    "        {\n",
    "            Console.WriteLine($\"{response.Role}: {response.Content}\");\n",
    "        }\n",
    "    };\n",
    "\n",
    "    #pragma warning disable SKEXP0110 // Type is for evaluation purposes only and is subject to change or removal in future updates. Suppress this diagnostic to proceed.\n",
    "\n",
    "    var input = \"What bikes do you have in stock?\";\n",
    "    await invokeAgentAsync(thread, input);\n",
    "    "
   ]
  },
  {
   "cell_type": "markdown",
   "metadata": {},
   "source": [
    "**Step 5**: Clean up Resources\n",
    "\n",
    "Delete the agent and the thread to clean up resources."
   ]
  },
  {
   "cell_type": "code",
   "execution_count": 73,
   "metadata": {
    "polyglot_notebook": {
     "kernelName": "csharp"
    }
   },
   "outputs": [],
   "source": [
    "   await thread.DeleteAsync();\n",
    "   await client.Administration.DeleteAgentAsync(agent.Id);"
   ]
  }
 ],
 "metadata": {
  "kernelspec": {
   "display_name": ".NET (C#)",
   "language": "C#",
   "name": ".net-csharp"
  },
  "language_info": {
   "name": "polyglot-notebook"
  },
  "polyglot_notebook": {
   "kernelInfo": {
    "defaultKernelName": "csharp",
    "items": [
     {
      "aliases": [],
      "name": "csharp"
     }
    ]
   }
  }
 },
 "nbformat": 4,
 "nbformat_minor": 2
}
