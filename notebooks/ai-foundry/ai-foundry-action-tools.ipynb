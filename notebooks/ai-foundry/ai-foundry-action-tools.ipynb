{
 "cells": [
  {
   "cell_type": "markdown",
   "metadata": {},
   "source": [
    "# Using Action Tools\n"
   ]
  },
  {
   "attachments": {},
   "cell_type": "markdown",
   "metadata": {},
   "source": [
    "**Step 1**: Install NuGet packages\n",
    "\n",
    "To get started with Azure AI Foundry, you need to install the required NuGet packages:"
   ]
  },
  {
   "cell_type": "code",
   "execution_count": 18,
   "metadata": {
    "polyglot_notebook": {
     "kernelName": "csharp"
    }
   },
   "outputs": [
    {
     "data": {
      "text/html": [
       "<div><div></div><div></div><div><strong>Installed Packages</strong><ul><li><span>DotNetEnv, 3.1.0</span></li><li><span>Microsoft.Extensions.AI.AzureAIInference, 9.5.0-preview.1.25265.7</span></li><li><span>Microsoft.SemanticKernel, 1.56.0</span></li><li><span>Microsoft.SemanticKernel.Agents.AzureAI, 1.56.0-preview</span></li><li><span>Microsoft.SemanticKernel.Agents.Core, 1.56.0</span></li></ul></div></div>"
      ]
     },
     "metadata": {},
     "output_type": "display_data"
    }
   ],
   "source": [
    "#r \"nuget: Microsoft.SemanticKernel\"\n",
    "#r \"nuget: Microsoft.Extensions.AI.AzureAIInference, 9.5.0-preview.1.25265.7\"\n",
    "#r \"nuget: Microsoft.SemanticKernel.Agents.Core\"\n",
    "#r \"nuget: DotNetEnv, 3.1.0\"\n",
    "#r \"nuget: Microsoft.SemanticKernel.Agents.AzureAI, 1.56.0-preview\""
   ]
  },
  {
   "cell_type": "markdown",
   "metadata": {},
   "source": [
    "**Step 2**: Read environment variables\n",
    "\n",
    "In this step, we load these variables from a `.env` file so that they can be accessed by the application."
   ]
  },
  {
   "cell_type": "code",
   "execution_count": 19,
   "metadata": {
    "polyglot_notebook": {
     "kernelName": "csharp"
    }
   },
   "outputs": [
    {
     "name": "stdout",
     "output_type": "stream",
     "text": [
      "Loaded environment variables from d:\\personal\\aiagent-workshop\\notebooks\\ai-foundry\\../..\\.env\r\n"
     ]
    }
   ],
   "source": [
    "using DotNetEnv;\n",
    "using System.IO;\n",
    "\n",
    "var envFilePath = Path.Combine(Environment.CurrentDirectory, \"../..\", \".env\");\n",
    "if (File.Exists(envFilePath))\n",
    "{\n",
    "    Env.Load(envFilePath);\n",
    "    Console.WriteLine($\"Loaded environment variables from {envFilePath}\");\n",
    "}\n",
    "else\n",
    "{\n",
    "    Console.WriteLine($\"No .env file found at {envFilePath}\");\n",
    "}"
   ]
  },
  {
   "attachments": {},
   "cell_type": "markdown",
   "metadata": {},
   "source": [
    "**Step 3**: Instantiate the Project Client\n",
    "\n",
    "Create a `PersistentAgentsClient` using your Azure AI Foundry project endpoint.\n",
    "\n",
    "Note that **DefaultAzureCredential** is used for authentication. Run `az login --use-device-code` if you haven't already."
   ]
  },
  {
   "cell_type": "code",
   "execution_count": 20,
   "metadata": {
    "dotnet_interactive": {
     "language": "csharp"
    },
    "polyglot_notebook": {
     "kernelName": "csharp"
    }
   },
   "outputs": [],
   "source": [
    "using Microsoft.SemanticKernel;\n",
    "using Microsoft.SemanticKernel.ChatCompletion; \n",
    "using Microsoft.SemanticKernel.Agents.AzureAI;\n",
    "using Azure.Identity;\n",
    "\n",
    "var projectEndpoint = Environment.GetEnvironmentVariable(\"AZURE_AI_PROJECT_ENDPOINT\");\n",
    "#pragma warning disable SKEXP0110 // Type is for evaluation purposes only and is subject to change or removal in future updates. Suppress this diagnostic to proceed.\n",
    "var client = AzureAIAgent.CreateAgentsClient(projectEndpoint, new DefaultAzureCredential());\n",
    "#pragma warning restore SKEXP0110 // Type is for evaluation purposes only and is subject to change or removal in future updates."
   ]
  },
  {
   "cell_type": "markdown",
   "metadata": {},
   "source": [
    "# Bike Inventory Agent\n",
    "This section demonstrates how to create a bike order management agent that can handle customer orders, and provide an update on the status of an order."
   ]
  },
  {
   "cell_type": "markdown",
   "metadata": {},
   "source": [
    "**Step 1**: Define your agent\n",
    "\n",
    "In this step, define the attributes for the agent, including its name, instructions, tools (if any), and the model to use."
   ]
  },
  {
   "cell_type": "code",
   "execution_count": null,
   "metadata": {
    "polyglot_notebook": {
     "kernelName": "csharp"
    }
   },
   "outputs": [],
   "source": [
    "using Microsoft.SemanticKernel;\n",
    "using Microsoft.SemanticKernel.ChatCompletion;\n",
    "using Microsoft.SemanticKernel.Agents.AzureAI;\n",
    "using Azure.Identity;\n",
    "using Azure.AI.Agents.Persistent;\n",
    "\n",
    "\n",
    "var modelId = Environment.GetEnvironmentVariable(\"TEXT_MODEL_NAME\");\n",
    "var agentName = \"ContosoInventoryAgent_ToolsIntegration\";\n",
    "var agentInstructions = @\"\n",
    "You are a knowledgeable and friendly assistant for the Contoso Bike Store.\n",
    "Your job is to help customers find information about bikes, check inventory using the Contoso Bike Store API.\n",
    "Always provide clear, concise, and accurate responses. If you need more details from the user, ask clarifying questions.\n",
    "Use the API to retrieve up-to-date information.\n",
    "\"; \n",
    "\n",
    "var filePath = Path.Combine(Environment.CurrentDirectory, \"../../resources/contoso-store-api-swagger.json\");\n",
    "var fileData = File.ReadAllBytes(filePath);\n",
    "\n",
    "OpenApiAnonymousAuthDetails oaiAuth = new();\n",
    "OpenApiToolDefinition openApiTool = new(\n",
    "    name: \"ContosoBikeStoreAPI\",\n",
    "    description: \"The API provides information about the bikes in the catalog for the Contoso Bike Store.\",\n",
    "    spec: BinaryData.FromBytes(fileData),\n",
    "    openApiAuthentication: oaiAuth,\n",
    "    defaultParams: [\"format\"]\n",
    ");\n",
    "\n",
    "var agentDefinition = await client.Administration.CreateAgentAsync(\n",
    "    modelId,\n",
    "    name: agentName,\n",
    "    instructions: agentInstructions,\n",
    "    tools: [openApiTool],\n",
    "    toolResources: null);"
   ]
  },
  {
   "cell_type": "markdown",
   "metadata": {},
   "source": [
    "**Step 2**: Create the agent\n",
    "\n",
    "Finally, we create the agent using the `CreateAgentAsync` method of the `PersistentAgentsClient`. This method takes the agent definition and returns the created agent."
   ]
  },
  {
   "cell_type": "code",
   "execution_count": 22,
   "metadata": {
    "polyglot_notebook": {
     "kernelName": "csharp"
    }
   },
   "outputs": [],
   "source": [
    "using Microsoft.SemanticKernel;\n",
    "using Microsoft.SemanticKernel.ChatCompletion; \n",
    "using Microsoft.SemanticKernel.Agents.AzureAI;\n",
    "\n",
    "#pragma warning disable SKEXP0110 // Type is for evaluation purposes only and is subject to change or removal in future updates. Suppress this diagnostic to proceed.\n",
    "       \n",
    "var agent = new AzureAIAgent(agentDefinition, client);\n",
    "\n",
    "#pragma warning restore SKEXP0110 // Type is for evaluation purposes only and is subject to change or removal in future updates."
   ]
  },
  {
   "cell_type": "markdown",
   "metadata": {},
   "source": [
    "**Step 3**: Create a helper function to call the agent and handle the response."
   ]
  },
  {
   "cell_type": "code",
   "execution_count": 23,
   "metadata": {
    "polyglot_notebook": {
     "kernelName": "csharp"
    }
   },
   "outputs": [],
   "source": [
    "#pragma warning disable SKEXP0110 // Type is for evaluation purposes only and is subject to change or removal in future updates. Suppress this diagnostic to proceed.\n",
    "\n",
    "    var invokeAgentAsync = async (AzureAIAgentThread agentThread, string input) =>\n",
    "    {\n",
    "        ChatMessageContent message = new(AuthorRole.User, input);\n",
    "        await foreach (ChatMessageContent response in agent.InvokeAsync(message, agentThread))\n",
    "        {\n",
    "            Console.WriteLine($\"{response.Role}: {response.Content}\");\n",
    "        }\n",
    "    };\n",
    "\n",
    "    #pragma warning disable SKEXP0110 // Type is for evaluation purposes only and is subject to change or removal in future updates. Suppress this diagnostic to proceed.\n",
    "    "
   ]
  },
  {
   "cell_type": "markdown",
   "metadata": {},
   "source": [
    "**Step 4**: Now let us try invoking the agent with different queries."
   ]
  },
  {
   "cell_type": "code",
   "execution_count": 24,
   "metadata": {
    "polyglot_notebook": {
     "kernelName": "csharp"
    }
   },
   "outputs": [
    {
     "name": "stdout",
     "output_type": "stream",
     "text": [
      "assistant: Here’s the current selection of bikes available in stock:\n",
      "\n",
      "1. **Contoso Roadster 200**: Lightweight road bike for speed and endurance.  \n",
      "   - Price: $899.99  \n",
      "   - Stock: 12 units in Seattle (Downtown branch).\n",
      "\n",
      "2. **Contoso Mountain X1**: Durable mountain bike for tough terrains.  \n",
      "   - Price: $1,199.99  \n",
      "   - Stock: 8 units in Seattle (Northgate branch).\n",
      "\n",
      "3. **Contoso City Cruiser**: Comfortable bike for daily city commuting.  \n",
      "   - Price: $499.99  \n",
      "   - Stock: 15 units in Portland (Central branch).\n",
      "\n",
      "4. **Contoso Kids Sprint**: Safe and colorful bike designed for children.  \n",
      "   - Price: $299.99  \n",
      "   - Stock: 20 units in Portland (Eastside branch).\n",
      "\n",
      "5. **Contoso E-Bike Pro**: Electric bike with long battery life and fast charge.  \n",
      "   - Price: $1,799.99  \n",
      "   - Stock: 5 units in San Francisco (Market Street branch).\n",
      "\n",
      "6. **Contoso Gravel 360**: Versatile gravel bike for mixed surfaces.  \n",
      "   - Price: $1,099.99  \n",
      "   - Stock: 10 units in San Francisco (Mission branch).\n",
      "\n",
      "7. **Contoso Folding Go**: Compact folding bike for easy storage and travel.  \n",
      "   - Price: $649.99  \n",
      "   - Stock: 7 units in Austin (Downtown branch).\n",
      "\n",
      "8. **Contoso Tandem Duo**: Tandem bike for two riders, fun for couples.  \n",
      "   - Price: $1,499.99  \n",
      "   - Stock: 3 units in Austin (Riverside branch).\n",
      "\n",
      "9. **Contoso Fat Tire FX**: Fat tire bike for sand and snow adventures.  \n",
      "   - Price: $1,299.99  \n",
      "   - Stock: 6 units in Denver (Highlands branch).\n",
      "\n",
      "10. **Contoso Classic 50**: Vintage-style bike with modern components.  \n",
      "    - Price: $799.99  \n",
      "    - Stock: 9 units in Denver (Cherry Creek branch).\n",
      "\n",
      "Would you like more details about a specific bike or assistance with purchasing?\r\n"
     ]
    }
   ],
   "source": [
    "using Microsoft.SemanticKernel;\n",
    "using Microsoft.SemanticKernel.ChatCompletion; \n",
    "using Microsoft.SemanticKernel.Agents.AzureAI;\n",
    "\n",
    "#pragma warning disable SKEXP0110 // Type is for evaluation purposes only and is subject to change or removal in future updates. Suppress this diagnostic to proceed.\n",
    "var thread = new AzureAIAgentThread(client);\n",
    "#pragma warning restore SKEXP0110 // Type is for evaluation purposes only and is subject to change or removal in future updates.\n",
    "\n",
    "await invokeAgentAsync(thread, \"What bikes do you have in stock?\");"
   ]
  },
  {
   "cell_type": "markdown",
   "metadata": {},
   "source": [
    "**Step 5**: Clean up Resources\n",
    "\n",
    "Delete the agent and the thread to clean up resources."
   ]
  },
  {
   "cell_type": "code",
   "execution_count": 73,
   "metadata": {
    "polyglot_notebook": {
     "kernelName": "csharp"
    }
   },
   "outputs": [],
   "source": [
    "   await thread.DeleteAsync();\n",
    "   await client.Administration.DeleteAgentAsync(agent.Id);"
   ]
  }
 ],
 "metadata": {
  "kernelspec": {
   "display_name": ".NET (C#)",
   "language": "C#",
   "name": ".net-csharp"
  },
  "language_info": {
   "name": "polyglot-notebook"
  },
  "polyglot_notebook": {
   "kernelInfo": {
    "defaultKernelName": "csharp",
    "items": [
     {
      "aliases": [],
      "name": "csharp"
     }
    ]
   }
  }
 },
 "nbformat": 4,
 "nbformat_minor": 2
}
