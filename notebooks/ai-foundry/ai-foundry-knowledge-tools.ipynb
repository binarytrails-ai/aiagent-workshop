{
 "cells": [
  {
   "cell_type": "markdown",
   "metadata": {},
   "source": [
    "# Using Knowledge tools"
   ]
  },
  {
   "attachments": {},
   "cell_type": "markdown",
   "metadata": {},
   "source": [
    "**Step 1**: Install NuGet packages\n",
    "\n",
    "To get started with Azure AI Foundry, you need to install the required NuGet packages:"
   ]
  },
  {
   "cell_type": "code",
   "execution_count": 34,
   "metadata": {
    "polyglot_notebook": {
     "kernelName": "csharp"
    }
   },
   "outputs": [
    {
     "data": {
      "text/html": [
       "<div><div></div><div></div><div><strong>Installed Packages</strong><ul><li><span>DotNetEnv, 3.1.0</span></li><li><span>Microsoft.Extensions.AI.AzureAIInference, 9.5.0-preview.1.25265.7</span></li><li><span>Microsoft.SemanticKernel, 1.56.0</span></li><li><span>Microsoft.SemanticKernel.Agents.AzureAI, 1.56.0-preview</span></li><li><span>Microsoft.SemanticKernel.Agents.Core, 1.56.0</span></li></ul></div></div>"
      ]
     },
     "metadata": {},
     "output_type": "display_data"
    }
   ],
   "source": [
    "#r \"nuget: Microsoft.SemanticKernel\"\n",
    "#r \"nuget: Microsoft.Extensions.AI.AzureAIInference, 9.5.0-preview.1.25265.7\"\n",
    "#r \"nuget: Microsoft.SemanticKernel.Agents.Core\"\n",
    "#r \"nuget: DotNetEnv, 3.1.0\"\n",
    "#r \"nuget: Microsoft.SemanticKernel.Agents.AzureAI, 1.56.0-preview\""
   ]
  },
  {
   "cell_type": "markdown",
   "metadata": {},
   "source": [
    "**Step 2**: Read environment variables\n",
    "\n",
    "In this step, we load these variables from a `.env` file (if present) so that they can be accessed by the application."
   ]
  },
  {
   "cell_type": "code",
   "execution_count": 35,
   "metadata": {
    "polyglot_notebook": {
     "kernelName": "csharp"
    }
   },
   "outputs": [
    {
     "name": "stdout",
     "output_type": "stream",
     "text": [
      "Loaded environment variables from d:\\personal\\aiagent-workshop\\notebooks\\ai-foundry\\../..\\.env\r\n"
     ]
    }
   ],
   "source": [
    "using DotNetEnv;\n",
    "using System.IO;\n",
    "\n",
    "var envFilePath = Path.Combine(Environment.CurrentDirectory, \"../..\", \".env\");\n",
    "if (File.Exists(envFilePath))\n",
    "{\n",
    "    Env.Load(envFilePath);\n",
    "    Console.WriteLine($\"Loaded environment variables from {envFilePath}\");\n",
    "}\n",
    "else\n",
    "{\n",
    "    Console.WriteLine($\"No .env file found at {envFilePath}\");\n",
    "}"
   ]
  },
  {
   "attachments": {},
   "cell_type": "markdown",
   "metadata": {},
   "source": [
    "**Step 3**: Instantiate the Project client\n",
    "\n",
    "Create an instance of the `PersistentAgentsClient` using the endpoint URL and the Azure AI Foundry project.\n",
    "\n",
    "Note that **DefaultAzureCredential** is used for authentication. To successfully authenticate, log in to the Azure CLI using `az login --use-device-code`."
   ]
  },
  {
   "cell_type": "code",
   "execution_count": 36,
   "metadata": {
    "dotnet_interactive": {
     "language": "csharp"
    },
    "polyglot_notebook": {
     "kernelName": "csharp"
    }
   },
   "outputs": [],
   "source": [
    "using Microsoft.SemanticKernel;\n",
    "using Microsoft.SemanticKernel.ChatCompletion; \n",
    "using Microsoft.SemanticKernel.Agents.AzureAI;\n",
    "using Azure.Identity;\n",
    "\n",
    "var projectEndpoint = Environment.GetEnvironmentVariable(\"AZURE_AI_PROJECT_ENDPOINT\");\n",
    "#pragma warning disable SKEXP0110 // Type is for evaluation purposes only and is subject to change or removal in future updates. Suppress this diagnostic to proceed.\n",
    "var client = AzureAIAgent.CreateAgentsClient(projectEndpoint, new DefaultAzureCredential());\n",
    "#pragma warning restore SKEXP0110 // Type is for evaluation purposes only and is subject to change or removal in future updates."
   ]
  },
  {
   "cell_type": "markdown",
   "metadata": {},
   "source": [
    "# Contoso Bikes Policy Q&A\n",
    "\n",
    "This section demonstrates how to use the knowledge tools to answer questions about Contoso Bikes' company policies, such as the return policy."
   ]
  },
  {
   "cell_type": "markdown",
   "metadata": {},
   "source": [
    "**Step 1**: Define your agent\n",
    "\n",
    "In this step, we define the attributes for the agent, including its name, instructions, tools (if any), and the model to be used. "
   ]
  },
  {
   "cell_type": "code",
   "execution_count": null,
   "metadata": {},
   "outputs": [],
   "source": [
    "var modelId = Environment.GetEnvironmentVariable(\"MODEL\");\n",
    "var policyAgentName = \"ContosoPolicyAssistant\";\n",
    "var policyAgentInstructions = @\"\n",
    "    You are a helpful assistant for Contoso Bikes.\n",
    "    Answer questions about company policies, especially the return policy, using the provided documentation.\n",
    "    If a question is not covered by the documentation, politely inform the user.\n",
    "\";\n",
    "\n",
    "// Upload the Contoso Bikes policy markdown file and create a vector store\n",
    "var policyFilePath = Path.Combine(Environment.CurrentDirectory, \"../../resources/contoso-bikes.pdf\");\n",
    "var policyFileStream = File.OpenRead(policyFilePath);\n",
    "\n",
    "PersistentAgentFileInfo policyFileInfo = await client.Files.UploadFileAsync(policyFileStream, PersistentAgentFilePurpose.Agents, \"contoso-bikes.pdf\");\n",
    "PersistentAgentsVectorStore policyFileStore = await client.VectorStores.CreateVectorStoreAsync([policyFileInfo.Id]);\n",
    "\n",
    "var agentDefinition = await client.Administration.CreateAgentAsync(\n",
    "    modelId,\n",
    "    name: policyAgentName,\n",
    "    instructions: policyAgentInstructions,\n",
    "    tools: [new FileSearchToolDefinition()],\n",
    "    toolResources: new()\n",
    "    {\n",
    "        FileSearch = new()\n",
    "        {\n",
    "            VectorStoreIds = { policyFileStore.Id },\n",
    "        }\n",
    "    });"
   ]
  },
  {
   "cell_type": "markdown",
   "metadata": {},
   "source": [
    "**Step 2**: Create the agent\n",
    "\n",
    "Finally, we create the agent using the `CreateAgentAsync` method of the `PersistentAgentsClient`. This method takes the agent definition and returns the created agent."
   ]
  },
  {
   "cell_type": "code",
   "execution_count": 38,
   "metadata": {},
   "outputs": [],
   "source": [
    "using Microsoft.SemanticKernel;\n",
    "using Microsoft.SemanticKernel.ChatCompletion; \n",
    "using Microsoft.SemanticKernel.Agents.AzureAI;\n",
    "\n",
    "#pragma warning disable SKEXP0110 // Type is for evaluation purposes only and is subject to change or removal in future updates. Suppress this diagnostic to proceed.\n",
    "       \n",
    "var agent = new AzureAIAgent(agentDefinition, client);\n",
    "\n",
    "#pragma warning restore SKEXP0110 // Type is for evaluation purposes only and is subject to change or removal in future updates."
   ]
  },
  {
   "cell_type": "markdown",
   "metadata": {},
   "source": [
    "**Step 3**: Creat a new thread for the agent"
   ]
  },
  {
   "cell_type": "code",
   "execution_count": 39,
   "metadata": {
    "polyglot_notebook": {
     "kernelName": "csharp"
    }
   },
   "outputs": [],
   "source": [
    "using Microsoft.SemanticKernel;\n",
    "using Microsoft.SemanticKernel.ChatCompletion; \n",
    "using Microsoft.SemanticKernel.Agents.AzureAI;\n",
    "\n",
    "#pragma warning disable SKEXP0110 // Type is for evaluation purposes only and is subject to change or removal in future updates. Suppress this diagnostic to proceed.\n",
    "       \n",
    "var thread = new AzureAIAgentThread(client);\n",
    "\n",
    "#pragma warning restore SKEXP0110 // Type is for evaluation purposes only and is subject to change or removal in future updates."
   ]
  },
  {
   "cell_type": "markdown",
   "metadata": {},
   "source": [
    "**Step 4** : Create a new message for the agent\n",
    "\n",
    "Use the agent to answer questions about the return policy or other company policies."
   ]
  },
  {
   "cell_type": "code",
   "execution_count": 40,
   "metadata": {},
   "outputs": [
    {
     "name": "stdout",
     "output_type": "stream",
     "text": [
      "assistant: At Contoso Bikes, the return policy is as follows:\n",
      "\n",
      "- **Timeframe**: Most items can be returned within 30 days of delivery for a full refund or exchange.\n",
      "- **Eligibility**: Items must be unused, in their original packaging, and accompanied by proof of purchase (e.g., receipt).\n",
      "- **Exclusions**: Custom bikes, gift cards, and clearance items are not eligible for return.\n",
      "- **Damaged or Defective Goods**: If the received item is damaged or defective, contact support within 7 days for a replacement or refund at no extra cost.\n",
      "- **Return Process**:\n",
      "  1. Contact the customer service team via email at support@contosobikes.com or by calling 1-800-BIKE-123 to initiate the return.\n",
      "  2. An RMA (Return Merchandise Authorization) number and shipping instructions will be provided.\n",
      "  3. Package the item securely, include all original materials, and mark the RMA number on the package.\n",
      "  4. Use a trackable shipping service to ship the item to the provided address.\n",
      "- **Refunds**: Processed within 7 business days to the original payment method after inspection of the returned item, with email confirmation.\n",
      "- **Exchanges**: Specify the replacement product when contacting customer service; subject to availability.\n",
      "- **Shipping Costs**: Customers bear return shipping costs unless the error is on Contoso Bikes’ part. If so, a prepaid shipping label will be provided.\n",
      "- **International Returns**: International customers must cover shipping fees, duties, and taxes.\n",
      "\n",
      "For more details, contact support at the provided email or phone number【4:0†source】.\r\n"
     ]
    }
   ],
   "source": [
    "#pragma warning disable SKEXP0110 // Type is for evaluation purposes only and is subject to change or removal in future updates. Suppress this diagnostic to proceed.\n",
    "var policyThread = new AzureAIAgentThread(client);\n",
    "\n",
    "var invokeAgentAsync = async (AzureAIAgentThread agentThread, string input) =>\n",
    "{\n",
    "    ChatMessageContent message = new(AuthorRole.User, input);\n",
    "    await foreach (ChatMessageContent response in agent.InvokeAsync(message, agentThread))\n",
    "    {\n",
    "        Console.WriteLine($\"{response.Role}: {response.Content}\");\n",
    "    }\n",
    "};\n",
    "\n",
    "await invokeAgentAsync(policyThread, \"What is the return policy at Contoso Bikes?\");\n",
    "#pragma warning restore SKEXP0110 // Type is for evaluation purposes only and is subject to change or removal in future updates."
   ]
  },
  {
   "cell_type": "markdown",
   "metadata": {},
   "source": [
    "Ask another question to the agent to see how it responds based on the provided context."
   ]
  },
  {
   "cell_type": "code",
   "execution_count": 41,
   "metadata": {},
   "outputs": [
    {
     "name": "stdout",
     "output_type": "stream",
     "text": [
      "assistant: Yes, the following items cannot be returned at Contoso Bikes:\n",
      "\n",
      "1. **Custom Bikes**: Any bikes customized to a customer's specifications.\n",
      "2. **Gift Cards**: These are non-returnable.\n",
      "3. **Clearance Items**: Items purchased on clearance are not eligible for returns.\n",
      "\n",
      "These exclusions are part of the company’s return policy【4:0†source】.\r\n"
     ]
    }
   ],
   "source": [
    "await invokeAgentAsync(policyThread, \"Are there any items that cannot be returned?\");"
   ]
  },
  {
   "cell_type": "markdown",
   "metadata": {},
   "source": [
    "**Step 5**: Clean up\n",
    "\n",
    "Delete the agent and the thread to clean up resources."
   ]
  },
  {
   "cell_type": "code",
   "execution_count": 43,
   "metadata": {
    "polyglot_notebook": {
     "kernelName": "csharp"
    }
   },
   "outputs": [],
   "source": [
    "await policyThread.DeleteAsync();\n",
    "await client.Administration.DeleteAgentAsync(agent.Id);"
   ]
  }
 ],
 "metadata": {
  "kernelspec": {
   "display_name": ".NET (C#)",
   "language": "C#",
   "name": ".net-csharp"
  },
  "language_info": {
   "name": "polyglot-notebook"
  },
  "polyglot_notebook": {
   "kernelInfo": {
    "defaultKernelName": "csharp",
    "items": [
     {
      "aliases": [],
      "name": "csharp"
     }
    ]
   }
  }
 },
 "nbformat": 4,
 "nbformat_minor": 2
}
