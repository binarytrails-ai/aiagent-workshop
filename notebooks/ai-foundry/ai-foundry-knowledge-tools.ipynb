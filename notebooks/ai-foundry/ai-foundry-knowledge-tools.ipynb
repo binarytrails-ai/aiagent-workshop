{
 "cells": [
  {
   "cell_type": "markdown",
   "metadata": {},
   "source": [
    "# Using Knowledge tools"
   ]
  },
  {
   "attachments": {},
   "cell_type": "markdown",
   "metadata": {},
   "source": [
    "**Step 1**: Install NuGet packages\n",
    "\n",
    "To get started with Azure AI Foundry, you need to install the required NuGet packages:"
   ]
  },
  {
   "cell_type": "code",
   "execution_count": null,
   "metadata": {
    "polyglot_notebook": {
     "kernelName": "csharp"
    }
   },
   "outputs": [
    {
     "data": {
      "text/html": [
       "<div><div></div><div></div><div><strong>Installed Packages</strong><ul><li><span>DotNetEnv, 3.1.0</span></li><li><span>Microsoft.Extensions.AI.AzureAIInference, 9.5.0-preview.1.25265.7</span></li><li><span>Microsoft.SemanticKernel, 1.56.0</span></li><li><span>Microsoft.SemanticKernel.Agents.AzureAI, 1.56.0-preview</span></li><li><span>Microsoft.SemanticKernel.Agents.Core, 1.56.0</span></li></ul></div></div>"
      ]
     },
     "metadata": {},
     "output_type": "display_data"
    }
   ],
   "source": [
    "#r \"nuget: Microsoft.SemanticKernel\"\n",
    "#r \"nuget: Microsoft.Extensions.AI.AzureAIInference, 9.5.0-preview.1.25265.7\"\n",
    "#r \"nuget: Microsoft.SemanticKernel.Agents.Core\"\n",
    "#r \"nuget: DotNetEnv, 3.1.0\"\n",
    "#r \"nuget: Microsoft.SemanticKernel.Agents.AzureAI, 1.56.0-preview\""
   ]
  },
  {
   "cell_type": "markdown",
   "metadata": {},
   "source": [
    "**Step 2**: Read environment variables\n",
    "\n",
    "In this step, we load these variables from a `.env` file (if present) so that they can be accessed by the application."
   ]
  },
  {
   "cell_type": "code",
   "execution_count": 22,
   "metadata": {
    "polyglot_notebook": {
     "kernelName": "csharp"
    }
   },
   "outputs": [
    {
     "name": "stdout",
     "output_type": "stream",
     "text": [
      "Loaded environment variables from d:\\personal\\aiagent-workshop\\notebooks\\ai-foundry\\../..\\.env\r\n"
     ]
    }
   ],
   "source": [
    "using DotNetEnv;\n",
    "using System.IO;\n",
    "\n",
    "var envFilePath = Path.Combine(Environment.CurrentDirectory, \"../..\", \".env\");\n",
    "if (File.Exists(envFilePath))\n",
    "{\n",
    "    Env.Load(envFilePath);\n",
    "    Console.WriteLine($\"Loaded environment variables from {envFilePath}\");\n",
    "}\n",
    "else\n",
    "{\n",
    "    Console.WriteLine($\"No .env file found at {envFilePath}\");\n",
    "}"
   ]
  },
  {
   "attachments": {},
   "cell_type": "markdown",
   "metadata": {},
   "source": [
    "**Step 3**: Instantiate the Project client\n",
    "\n",
    "Create an instance of the `PersistentAgentsClient` using the endpoint URL and the Azure AI Foundry project.\n",
    "\n",
    "Note that **DefaultAzureCredential** is used for authentication. To successfully authenticate, log in to the Azure CLI using `az login --use-device-code`."
   ]
  },
  {
   "cell_type": "code",
   "execution_count": 23,
   "metadata": {
    "dotnet_interactive": {
     "language": "csharp"
    },
    "polyglot_notebook": {
     "kernelName": "csharp"
    }
   },
   "outputs": [],
   "source": [
    "using Microsoft.SemanticKernel;\n",
    "using Microsoft.SemanticKernel.ChatCompletion; \n",
    "using Microsoft.SemanticKernel.Agents.AzureAI;\n",
    "using Azure.Identity;\n",
    "\n",
    "var projectEndpoint = Environment.GetEnvironmentVariable(\"AZURE_AI_PROJECT_ENDPOINT\");\n",
    "#pragma warning disable SKEXP0110 // Type is for evaluation purposes only and is subject to change or removal in future updates. Suppress this diagnostic to proceed.\n",
    "var client = AzureAIAgent.CreateAgentsClient(projectEndpoint, new DefaultAzureCredential());\n",
    "#pragma warning restore SKEXP0110 // Type is for evaluation purposes only and is subject to change or removal in future updates."
   ]
  },
  {
   "cell_type": "markdown",
   "metadata": {},
   "source": [
    "**Step 4**: Define your agent\n",
    "\n",
    "In this step, we define the attributes for the agent, including its name, instructions, tools (if any), and the model to be used.\n",
    "\n",
    "After running this code, the agent will be created in the Azure AI Foundry project. "
   ]
  },
  {
   "cell_type": "code",
   "execution_count": 24,
   "metadata": {
    "polyglot_notebook": {
     "kernelName": "csharp"
    }
   },
   "outputs": [],
   "source": [
    "using Microsoft.SemanticKernel;\n",
    "using Microsoft.SemanticKernel.ChatCompletion;\n",
    "using Microsoft.SemanticKernel.Agents.AzureAI;\n",
    "using Azure.Identity;\n",
    "using Azure.AI.Agents.Persistent;\n",
    "\n",
    "var modelId = Environment.GetEnvironmentVariable(\"MODEL\");\n",
    "var agentName = \"FileSearchAgent\";\n",
    "var agentInstructions = @\"You are a helpful assistant that can answer questions about Contoso products and services.\";\n",
    "\n",
    "// Use Path.Combine with Environment.CurrentDirectory for portable relative path resolution\n",
    "var filePath = Path.Combine(Environment.CurrentDirectory, \"../../resources/contoso-bikes.pdf\");\n",
    "var fileStream = File.OpenRead(filePath);\n",
    "\n",
    "PersistentAgentFileInfo fileInfo = await client.Files.UploadFileAsync(fileStream, PersistentAgentFilePurpose.Agents, \"contoso-bikes.pdf\");\n",
    "PersistentAgentsVectorStore fileStore = await client.VectorStores.CreateVectorStoreAsync([fileInfo.Id]);\n",
    "\n",
    "var agentDefinition = await client.Administration.CreateAgentAsync(\n",
    "    modelId,\n",
    "    name: agentName,\n",
    "    instructions: agentInstructions,\n",
    "    tools: [new FileSearchToolDefinition()],\n",
    "    toolResources: new()\n",
    "    {\n",
    "        FileSearch = new()\n",
    "        {\n",
    "            VectorStoreIds = { fileStore.Id },\n",
    "        }\n",
    "    });\n"
   ]
  },
  {
   "cell_type": "markdown",
   "metadata": {},
   "source": [
    "**Step 5**: Create the agent\n",
    "\n",
    "Finally, we create the agent using the `CreateAgentAsync` method of the `PersistentAgentsClient`. This method takes the agent definition and returns the created agent."
   ]
  },
  {
   "cell_type": "code",
   "execution_count": 25,
   "metadata": {
    "polyglot_notebook": {
     "kernelName": "csharp"
    }
   },
   "outputs": [],
   "source": [
    "using Microsoft.SemanticKernel;\n",
    "using Microsoft.SemanticKernel.ChatCompletion; \n",
    "using Microsoft.SemanticKernel.Agents.AzureAI;\n",
    "\n",
    "#pragma warning disable SKEXP0110 // Type is for evaluation purposes only and is subject to change or removal in future updates. Suppress this diagnostic to proceed.\n",
    "       \n",
    "var agent = new AzureAIAgent(agentDefinition, client);\n",
    "\n",
    "#pragma warning restore SKEXP0110 // Type is for evaluation purposes only and is subject to change or removal in future updates."
   ]
  },
  {
   "cell_type": "markdown",
   "metadata": {},
   "source": [
    "**Step 5**: Creat a new thread for the agent"
   ]
  },
  {
   "cell_type": "code",
   "execution_count": 26,
   "metadata": {
    "polyglot_notebook": {
     "kernelName": "csharp"
    }
   },
   "outputs": [],
   "source": [
    "using Microsoft.SemanticKernel;\n",
    "using Microsoft.SemanticKernel.ChatCompletion; \n",
    "using Microsoft.SemanticKernel.Agents.AzureAI;\n",
    "\n",
    "#pragma warning disable SKEXP0110 // Type is for evaluation purposes only and is subject to change or removal in future updates. Suppress this diagnostic to proceed.\n",
    "       \n",
    "var thread = new AzureAIAgentThread(client);\n",
    "\n",
    "#pragma warning restore SKEXP0110 // Type is for evaluation purposes only and is subject to change or removal in future updates."
   ]
  },
  {
   "cell_type": "markdown",
   "metadata": {},
   "source": [
    "**Step 6** : Create a new message for the agent"
   ]
  },
  {
   "cell_type": "code",
   "execution_count": null,
   "metadata": {
    "polyglot_notebook": {
     "kernelName": "csharp"
    }
   },
   "outputs": [
    {
     "name": "stdout",
     "output_type": "stream",
     "text": [
      "assistant: Here are some suggestions for bikes suitable for city commuting based on Contoso's product catalog:\n",
      "\n",
      "1. **Contoso City Sprint** - A fast commuter bike designed for urban environments. Price: $799.99【4:0†source】.\n",
      "2. **Contoso Metro Glide** - A sleek bike ideal for smooth city rides. Price: $699.99【4:0†source】.\n",
      "3. **Contoso E-City** - An electric bike for convenient city commuting. Price: $1,599.99【4:0†source】.\n",
      "4. **Contoso City Cruiser** - A comfortable bike for daily city commuting. Price: $499.99【4:2†source】.\n",
      "5. **Contoso Urban Glide** - Suitable for smooth urban rides, combining style with functionality. Price: $749.99【4:3†source】.\n",
      "6. **Contoso Retro Glide** - A stylish retro bike perfect for city riding. Price: $799.99【4:4†source】.\n",
      "7. **Contoso E-Urban** - An electric bike built for fast commutes in urban settings. Price: $1,699.99【4:4†source】.\n",
      "\n",
      "Feel free to choose one depending on your preferences, like electric assistance, style, or price. Let me know if you need more help deciding!\r\n"
     ]
    }
   ],
   "source": [
    "    #pragma warning disable SKEXP0110 // Type is for evaluation purposes only and is subject to change or removal in future updates. Suppress this diagnostic to proceed.\n",
    "\n",
    "    var invokeAgentAsync = async (AzureAIAgentThread agentThread, string input) =>\n",
    "    {\n",
    "        ChatMessageContent message = new(AuthorRole.User, input);\n",
    "        await foreach (ChatMessageContent response in agent.InvokeAsync(message, agentThread))\n",
    "        {\n",
    "            Console.WriteLine($\"{response.Role}: {response.Content}\");\n",
    "        }\n",
    "    };\n",
    "\n",
    "    await invokeAgentAsync(thread, \"Can you suggest bikes for city commuting?\");\n",
    "    #pragma warning restore SKEXP0110 // Type is for evaluation purposes only and is subject to change or removal in future updates."
   ]
  },
  {
   "cell_type": "markdown",
   "metadata": {},
   "source": [
    "**Step 7**: Create additional messages to the same thread"
   ]
  },
  {
   "cell_type": "code",
   "execution_count": 20,
   "metadata": {
    "polyglot_notebook": {
     "kernelName": "csharp"
    }
   },
   "outputs": [
    {
     "name": "stdout",
     "output_type": "stream",
     "text": [
      "assistant: At the Seattle store, the following bikes suitable for city commuting are in stock:\n",
      "\n",
      "1. **Contoso Urban Sprint**: Stock available - 11 units【8:0†source】.\n",
      "2. **Contoso City Sprint**: Stock available - 10 units【8:2†source】.\n",
      "3. **Contoso City Pro**: Stock available - 9 units【8:4†source】.\n",
      "4. **Contoso Urban Max**: Stock available - 12 units【8:4†source】.\n",
      "\n",
      "Let me know if you need further details!\r\n"
     ]
    }
   ],
   "source": [
    " await invokeAgentAsync(thread, \"Which ones are in stock at the Seattle store?\");\n"
   ]
  },
  {
   "cell_type": "markdown",
   "metadata": {},
   "source": [
    "**Step 8**: Clean up\n",
    "\n",
    "Delete the agent and the thread to clean up resources."
   ]
  },
  {
   "cell_type": "code",
   "execution_count": null,
   "metadata": {
    "polyglot_notebook": {
     "kernelName": "csharp"
    }
   },
   "outputs": [],
   "source": [
    "await thread.DeleteAsync();\n",
    "await client.Administration.DeleteAgentAsync(agent.Id);"
   ]
  }
 ],
 "metadata": {
  "kernelspec": {
   "display_name": ".NET (C#)",
   "language": "C#",
   "name": ".net-csharp"
  },
  "language_info": {
   "name": "polyglot-notebook"
  },
  "polyglot_notebook": {
   "kernelInfo": {
    "defaultKernelName": "csharp",
    "items": [
     {
      "aliases": [],
      "name": "csharp"
     }
    ]
   }
  }
 },
 "nbformat": 4,
 "nbformat_minor": 2
}
