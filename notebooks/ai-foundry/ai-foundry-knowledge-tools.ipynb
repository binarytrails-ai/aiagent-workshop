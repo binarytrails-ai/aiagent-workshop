{
 "cells": [
  {
   "cell_type": "markdown",
   "metadata": {},
   "source": [
    "# Using Knowledge tools"
   ]
  },
  {
   "attachments": {},
   "cell_type": "markdown",
   "metadata": {},
   "source": [
    "**Step 1**: Install NuGet packages\n",
    "\n",
    "To get started with Azure AI Foundry, you need to install the required NuGet packages:"
   ]
  },
  {
   "cell_type": "code",
   "execution_count": 44,
   "metadata": {
    "polyglot_notebook": {
     "kernelName": "csharp"
    }
   },
   "outputs": [
    {
     "data": {
      "text/html": [
       "<div><div></div><div></div><div><strong>Installed Packages</strong><ul><li><span>DotNetEnv, 3.1.0</span></li><li><span>Microsoft.Extensions.AI.AzureAIInference, 9.5.0-preview.1.25265.7</span></li><li><span>Microsoft.SemanticKernel, 1.56.0</span></li><li><span>Microsoft.SemanticKernel.Agents.AzureAI, 1.56.0-preview</span></li><li><span>Microsoft.SemanticKernel.Agents.Core, 1.56.0</span></li></ul></div></div>"
      ]
     },
     "metadata": {},
     "output_type": "display_data"
    }
   ],
   "source": [
    "#r \"nuget: Microsoft.SemanticKernel\"\n",
    "#r \"nuget: Microsoft.Extensions.AI.AzureAIInference, 9.5.0-preview.1.25265.7\"\n",
    "#r \"nuget: Microsoft.SemanticKernel.Agents.Core\"\n",
    "#r \"nuget: DotNetEnv, 3.1.0\"\n",
    "#r \"nuget: Microsoft.SemanticKernel.Agents.AzureAI, 1.56.0-preview\""
   ]
  },
  {
   "cell_type": "markdown",
   "metadata": {},
   "source": [
    "**Step 2**: Read environment variables\n",
    "\n",
    "In this step, we load these variables from a `.env` file (if present) so that they can be accessed by the application."
   ]
  },
  {
   "cell_type": "code",
   "execution_count": 45,
   "metadata": {
    "polyglot_notebook": {
     "kernelName": "csharp"
    }
   },
   "outputs": [
    {
     "name": "stdout",
     "output_type": "stream",
     "text": [
      "Loaded environment variables from d:\\personal\\aiagent-workshop\\notebooks\\ai-foundry\\../..\\.env\r\n"
     ]
    }
   ],
   "source": [
    "using DotNetEnv;\n",
    "using System.IO;\n",
    "\n",
    "var envFilePath = Path.Combine(Environment.CurrentDirectory, \"../..\", \".env\");\n",
    "if (File.Exists(envFilePath))\n",
    "{\n",
    "    Env.Load(envFilePath);\n",
    "    Console.WriteLine($\"Loaded environment variables from {envFilePath}\");\n",
    "}\n",
    "else\n",
    "{\n",
    "    Console.WriteLine($\"No .env file found at {envFilePath}\");\n",
    "}"
   ]
  },
  {
   "attachments": {},
   "cell_type": "markdown",
   "metadata": {},
   "source": [
    "**Step 3**: Instantiate the Project client\n",
    "\n",
    "Create an instance of the `PersistentAgentsClient` using the endpoint URL and the Azure AI Foundry project.\n",
    "\n",
    "Note that **DefaultAzureCredential** is used for authentication. To successfully authenticate, log in to the Azure CLI using `az login --use-device-code`."
   ]
  },
  {
   "cell_type": "code",
   "execution_count": 46,
   "metadata": {
    "dotnet_interactive": {
     "language": "csharp"
    },
    "polyglot_notebook": {
     "kernelName": "csharp"
    }
   },
   "outputs": [],
   "source": [
    "using Microsoft.SemanticKernel;\n",
    "using Microsoft.SemanticKernel.ChatCompletion; \n",
    "using Microsoft.SemanticKernel.Agents.AzureAI;\n",
    "using Azure.Identity;\n",
    "\n",
    "var projectEndpoint = Environment.GetEnvironmentVariable(\"AZURE_AI_PROJECT_ENDPOINT\");\n",
    "#pragma warning disable SKEXP0110 // Type is for evaluation purposes only and is subject to change or removal in future updates. Suppress this diagnostic to proceed.\n",
    "var client = AzureAIAgent.CreateAgentsClient(projectEndpoint, new DefaultAzureCredential());\n",
    "#pragma warning restore SKEXP0110 // Type is for evaluation purposes only and is subject to change or removal in future updates."
   ]
  },
  {
   "cell_type": "markdown",
   "metadata": {},
   "source": [
    "# Contoso Bikes Policy Q&A\n",
    "\n",
    "This section demonstrates how to use the knowledge tools to answer questions about Contoso Bikes' company policies, such as the return policy."
   ]
  },
  {
   "cell_type": "markdown",
   "metadata": {},
   "source": [
    "**Step 1**: Define your agent\n",
    "\n",
    "In this step, we define the attributes for the agent, including its name, instructions, tools (if any), and the model to be used. "
   ]
  },
  {
   "cell_type": "code",
   "execution_count": 47,
   "metadata": {},
   "outputs": [],
   "source": [
    "var modelId = Environment.GetEnvironmentVariable(\"MODEL\");\n",
    "var policyAgentName = \"ContosoPolicyAgent\";\n",
    "var policyAgentInstructions = @\"\n",
    "    You are a helpful assistant for Contoso Bikes.\n",
    "    Answer questions about company policies, especially the return policy, using the provided documentation.\n",
    "    If a question is not covered by the documentation, politely inform the user.\n",
    "\";\n",
    "\n",
    "// Upload the Contoso Bikes policy markdown file and create a vector store\n",
    "var policyFilePath = Path.Combine(Environment.CurrentDirectory, \"../../resources/contoso-bikes.pdf\");\n",
    "var policyFileStream = File.OpenRead(policyFilePath);\n",
    "\n",
    "PersistentAgentFileInfo policyFileInfo = await client.Files.UploadFileAsync(policyFileStream, PersistentAgentFilePurpose.Agents, \"contoso-bikes.pdf\");\n",
    "PersistentAgentsVectorStore policyFileStore = await client.VectorStores.CreateVectorStoreAsync([policyFileInfo.Id]);\n",
    "\n",
    "var agentDefinition = await client.Administration.CreateAgentAsync(\n",
    "    modelId,\n",
    "    name: policyAgentName,\n",
    "    instructions: policyAgentInstructions,\n",
    "    tools: [new FileSearchToolDefinition()],\n",
    "    toolResources: new()\n",
    "    {\n",
    "        FileSearch = new()\n",
    "        {\n",
    "            VectorStoreIds = { policyFileStore.Id },\n",
    "        }\n",
    "    });"
   ]
  },
  {
   "cell_type": "markdown",
   "metadata": {},
   "source": [
    "**Step 2**: Create the agent\n",
    "\n",
    "Finally, we create the agent using the `CreateAgentAsync` method of the `PersistentAgentsClient`. This method takes the agent definition and returns the created agent."
   ]
  },
  {
   "cell_type": "code",
   "execution_count": 48,
   "metadata": {},
   "outputs": [],
   "source": [
    "using Microsoft.SemanticKernel;\n",
    "using Microsoft.SemanticKernel.ChatCompletion; \n",
    "using Microsoft.SemanticKernel.Agents.AzureAI;\n",
    "\n",
    "#pragma warning disable SKEXP0110 // Type is for evaluation purposes only and is subject to change or removal in future updates. Suppress this diagnostic to proceed.\n",
    "       \n",
    "var agent = new AzureAIAgent(agentDefinition, client);\n",
    "\n",
    "#pragma warning restore SKEXP0110 // Type is for evaluation purposes only and is subject to change or removal in future updates."
   ]
  },
  {
   "cell_type": "markdown",
   "metadata": {},
   "source": [
    "**Step 3**: Creat a new thread for the agent"
   ]
  },
  {
   "cell_type": "code",
   "execution_count": 54,
   "metadata": {
    "polyglot_notebook": {
     "kernelName": "csharp"
    }
   },
   "outputs": [],
   "source": [
    "using Microsoft.SemanticKernel;\n",
    "using Microsoft.SemanticKernel.ChatCompletion; \n",
    "using Microsoft.SemanticKernel.Agents.AzureAI;\n",
    "\n",
    "#pragma warning disable SKEXP0110 // Type is for evaluation purposes only and is subject to change or removal in future updates. Suppress this diagnostic to proceed.\n",
    "       \n",
    "var thread = new AzureAIAgentThread(client);\n",
    "\n",
    "#pragma warning restore SKEXP0110 // Type is for evaluation purposes only and is subject to change or removal in future updates."
   ]
  },
  {
   "cell_type": "markdown",
   "metadata": {},
   "source": [
    "**Step 4** : Create a new message for the agent\n",
    "\n",
    "Use the agent to answer questions about the return policy or other company policies."
   ]
  },
  {
   "cell_type": "code",
   "execution_count": null,
   "metadata": {},
   "outputs": [
    {
     "name": "stdout",
     "output_type": "stream",
     "text": [
      "assistant: The return policy at Contoso Bikes is as follows:\n",
      "\n",
      "1. **Eligibility for Returns**:\n",
      "   - Items must be unused, in original packaging, and accompanied by a receipt or proof of purchase.\n",
      "   - Custom bikes, gift cards, and clearance items cannot be returned.\n",
      "\n",
      "2. **Return Process**:\n",
      "   - Contact customer service by emailing support@contosobikes.com or calling 1-800-BIKE-123 to initiate a return.\n",
      "   - A Return Merchandise Authorization (RMA) number will be provided along with shipping instructions.\n",
      "   - Securely package the item with all original materials, marking the RMA number on the package.\n",
      "   - Ship the item to the provided address (trackable shipping is recommended).\n",
      "\n",
      "3. **Refunds & Exchanges**:\n",
      "   - Refunds are processed to the original payment method within 7 business days after receiving and inspecting the returned item.\n",
      "   - Exchanges are allowed based on product availability. Indicate the desired replacement product while contacting customer service.\n",
      "\n",
      "4. **Shipping Costs**:\n",
      "   - Return shipping costs are generally the customer's responsibility unless the item is defective or there is an error by Contoso Bikes, in which case a prepaid shipping label will be provided.\n",
      "\n",
      "5. **Special Cases**:\n",
      "   - Damaged or defective items must be reported within 7 days of delivery for a replacement or refund at no extra cost.\n",
      "   - International customers bear shipping fees, duties, and taxes for returns and must contact support for precise instructions【4:0†source】.\r\n"
     ]
    }
   ],
   "source": [
    "#pragma warning disable SKEXP0110 // Type is for evaluation purposes only and is subject to change or removal in future updates. Suppress this diagnostic to proceed.\n",
    "var thread = new AzureAIAgentThread(client);\n",
    "\n",
    "var invokeAgentAsync = async (AzureAIAgentThread agentThread, string input) =>\n",
    "{\n",
    "    ChatMessageContent message = new(AuthorRole.User, input);\n",
    "    await foreach (ChatMessageContent response in agent.InvokeAsync(message, agentThread))\n",
    "    {\n",
    "        Console.WriteLine($\"{response.Role}: {response.Content}\");\n",
    "    }\n",
    "};\n",
    "\n",
    "await invokeAgentAsync(thread, \"What is the return policy at Contoso Bikes?\");\n",
    "#pragma warning restore SKEXP0110 // Type is for evaluation purposes only and is subject to change or removal in future updates."
   ]
  },
  {
   "cell_type": "markdown",
   "metadata": {},
   "source": [
    "**Step 5**: Clean up\n",
    "\n",
    "Delete the agent and the thread to clean up resources."
   ]
  },
  {
   "cell_type": "code",
   "execution_count": null,
   "metadata": {
    "polyglot_notebook": {
     "kernelName": "csharp"
    }
   },
   "outputs": [],
   "source": [
    "await thread.DeleteAsync();\n",
    "await client.Administration.DeleteAgentAsync(agent.Id);"
   ]
  }
 ],
 "metadata": {
  "kernelspec": {
   "display_name": ".NET (C#)",
   "language": "C#",
   "name": ".net-csharp"
  },
  "language_info": {
   "name": "polyglot-notebook"
  },
  "polyglot_notebook": {
   "kernelInfo": {
    "defaultKernelName": "csharp",
    "items": [
     {
      "aliases": [],
      "name": "csharp"
     }
    ]
   }
  }
 },
 "nbformat": 4,
 "nbformat_minor": 2
}
