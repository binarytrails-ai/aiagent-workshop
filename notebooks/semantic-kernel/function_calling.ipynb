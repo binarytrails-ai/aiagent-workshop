{
 "cells": [
  {
   "cell_type": "markdown",
   "metadata": {},
   "source": [
    "# Function Calling in Semantic Kernel\n",
    "\n",
    "This notebook demonstrates how functions work in the Microsoft Semantic Kernel. \n",
    "\n",
    "It shows how the model decides when to execute functions, how functions are invoked, and how Semantic Kernel orchestrates all the steps for function execution. \n",
    "\n",
    "You'll learn to define, register, and invoke both inline and C# plugin functions, and see how the AI model and kernel orchestration works to deliver response.\n",
    "\n",
    "The plugin functions use local mock data to simulate real-world scenarios. In the next lab, you'll learn how to call external APIs and use real data.\n",
    "\n",
    "**Objectives:**\n",
    "- Understand how Semantic Kernel orchestrates function execution.\n",
    "- Define and use inline semantic functions.\n",
    "- Pass parameters to functions.\n",
    "- Register and invoke C# plugin (native) functions.\n"
   ]
  },
  {
   "cell_type": "markdown",
   "metadata": {},
   "source": [
    "## Setup\n",
    "\n",
    "In this section, we will set up the Semantic Kernel environment and configure it to use different LLM providers."
   ]
  },
  {
   "cell_type": "markdown",
   "metadata": {},
   "source": [
    "**Step 1:** Install NuGet packages\n",
    "\n",
    "Install the required NuGet packages for Semantic Kernel and DotNetEnv to enable AI-powered workflows and environment variable management."
   ]
  },
  {
   "cell_type": "code",
   "execution_count": 1,
   "metadata": {
    "polyglot_notebook": {
     "kernelName": "csharp"
    }
   },
   "outputs": [
    {
     "data": {
      "text/html": [
       "<div><div></div><div></div><div><strong>Installed Packages</strong><ul><li><span>DotNetEnv, 3.1.0</span></li><li><span>Microsoft.SemanticKernel, 1.55.0</span></li></ul></div></div>"
      ]
     },
     "metadata": {},
     "output_type": "display_data"
    }
   ],
   "source": [
    "// Import Semantic Kernel\n",
    "#r \"nuget: Microsoft.SemanticKernel, 1.55.0\"\n",
    "#r \"nuget: DotNetEnv, 3.1.0\""
   ]
  },
  {
   "cell_type": "markdown",
   "metadata": {},
   "source": [
    "**Step 2:** Load environment variables\n",
    "\n",
    "Load environment variables from a `.env` file if present. This helps manage secrets and configuration settings for your application."
   ]
  },
  {
   "cell_type": "code",
   "execution_count": 2,
   "metadata": {
    "polyglot_notebook": {
     "kernelName": "csharp"
    }
   },
   "outputs": [
    {
     "name": "stdout",
     "output_type": "stream",
     "text": [
      "Loaded environment variables from d:\\personal\\aiagent-workshop\\notebooks\\semantic-kernel\\../..\\.env\r\n"
     ]
    }
   ],
   "source": [
    "using DotNetEnv;\n",
    "using System.IO;\n",
    "\n",
    "var envFilePath = Path.Combine(Environment.CurrentDirectory, \"../..\", \".env\");\n",
    "if (File.Exists(envFilePath))\n",
    "{\n",
    "    Env.Load(envFilePath);\n",
    "    Console.WriteLine($\"Loaded environment variables from {envFilePath}\");\n",
    "}\n",
    "else\n",
    "{\n",
    "    Console.WriteLine($\"No .env file found at {envFilePath}\");\n",
    "}"
   ]
  },
  {
   "cell_type": "markdown",
   "metadata": {},
   "source": [
    "**Step 3:** Instantiate the Semantic Kernel\n",
    "\n",
    "Create and configure a Kernel instance, which will be used to interact with AI models."
   ]
  },
  {
   "cell_type": "code",
   "execution_count": 3,
   "metadata": {
    "polyglot_notebook": {
     "kernelName": "csharp"
    }
   },
   "outputs": [],
   "source": [
    "using System.ClientModel;\n",
    "using OpenAI;\n",
    "using Microsoft.SemanticKernel;\n",
    "using Microsoft.SemanticKernel.ChatCompletion;\n",
    "using System.Text;\n",
    "\n",
    "OpenAIClient client = null;\n",
    "if(Environment.GetEnvironmentVariable(\"USE_AZURE_OPENAI\") == \"true\")\n",
    "{\n",
    "    // Configure Azure OpenAI client\n",
    "    var azureEndpoint = Environment.GetEnvironmentVariable(\"AZURE_OPENAI_ENDPOINT\");\n",
    "    var apiKey = Environment.GetEnvironmentVariable(\"AZURE_OPENAI_API_KEY\");\n",
    "    client = new OpenAIClient(new ApiKeyCredential(apiKey), new OpenAIClientOptions { Endpoint = new Uri(azureEndpoint) });\n",
    "}\n",
    "else if(Environment.GetEnvironmentVariable(\"USE_OPENAI\") == \"true\")\n",
    "{\n",
    "    // Configure OpenAI client\n",
    "    var apiKey = Environment.GetEnvironmentVariable(\"OPENAI_API_KEY\");\n",
    "    client = new OpenAIClient(new ApiKeyCredential(apiKey));\n",
    "}\n",
    "else if(Environment.GetEnvironmentVariable(\"USE_GITHUB\") == \"true\")\n",
    "{\n",
    "    // Configure GitHub model client\n",
    "    var uri = Environment.GetEnvironmentVariable(\"GITHUB_MODEL_ENDPOINT\");\n",
    "    var apiKey = Environment.GetEnvironmentVariable(\"GITHUB_TOKEN\");\n",
    "    client = new OpenAIClient(new ApiKeyCredential(apiKey), new OpenAIClientOptions { Endpoint = new Uri(uri) });\n",
    "}\n",
    "\n",
    "var modelId = Environment.GetEnvironmentVariable(\"MODEL\");\n",
    "// Create a chat completion service\n",
    "var builder = Kernel.CreateBuilder();\n",
    "builder.AddOpenAIChatCompletion(modelId, client);\n",
    "\n",
    "// Get the chat completion service\n",
    "Kernel kernel = builder.Build();"
   ]
  },
  {
   "cell_type": "markdown",
   "metadata": {},
   "source": [
    "## Calling Functions (Semantic Functions)\n",
    "\n",
    "This section demonstrates how to define and call functions within the Semantic Kernel. Functions can be defined as text (Semantic) or in C# (native). "
   ]
  },
  {
   "cell_type": "markdown",
   "metadata": {},
   "source": [
    "**Step 4:** Define an inline semantic function\n",
    "\n",
    "Create an inline semantic function using a prompt template. This function will summarize input content, with a configurable word \n",
    "count.\n",
    "\n",
    "\n",
    "Set up the execution settings for the inline function, such as maximum tokens, temperature, and top-p sampling. Then, create the function from the prompt template"
   ]
  },
  {
   "cell_type": "code",
   "execution_count": 15,
   "metadata": {
    "polyglot_notebook": {
     "kernelName": "csharp"
    }
   },
   "outputs": [],
   "source": [
    "string skPrompt = \"\"\"\n",
    "{{$input}}\n",
    "\n",
    "Summarize the features of the bike described above in a maximum of {{$wordCount}} words, focusing on what makes it suitable for different types of riders.\n",
    "\n",
    "\"\"\";\n",
    "\n",
    "var summaryFunction = kernel.CreateFunctionFromPrompt(skPrompt);\n"
   ]
  },
  {
   "cell_type": "markdown",
   "metadata": {},
   "source": [
    "**Step 6:** Prepare input content\n",
    "\n",
    "Set up some content to summarize. In this example, the input describes the Contoso Hybrid Bike and its features."
   ]
  },
  {
   "cell_type": "code",
   "execution_count": 16,
   "metadata": {
    "polyglot_notebook": {
     "kernelName": "csharp"
    }
   },
   "outputs": [],
   "source": [
    "var input = \"\"\"\n",
    "The Contoso Hybrid Bike combines the lightweight frame of a road bike with the comfort and versatility of a mountain bike. It features a suspension fork for smooth rides on city streets and light trails, reliable disc brakes for all-weather stopping power, and ergonomic grips for long-distance comfort. This bike is ideal for commuters, fitness riders, and anyone who wants a single bike for multiple uses.\n",
    "\"\"\";"
   ]
  },
  {
   "cell_type": "markdown",
   "metadata": {},
   "source": [
    "**Step 7:** Call the inline function\n",
    "\n",
    "Send the bike description and word count to the inline function and receive a summary response from the AI model, suitable for a customer-facing product page or quick recommendation."
   ]
  },
  {
   "cell_type": "code",
   "execution_count": 17,
   "metadata": {
    "polyglot_notebook": {
     "kernelName": "csharp"
    }
   },
   "outputs": [
    {
     "name": "stdout",
     "output_type": "stream",
     "text": [
      "Response: Lightweight, versatile hybrid bike with suspension fork, disc brakes, and ergonomic design for all-purpose riding.\r\n"
     ]
    }
   ],
   "source": [
    "// Call the kernel to get a response \n",
    "var response = await kernel.InvokeAsync(summaryFunction, new() { [\"input\"] = input, [\"wordCount\"] = 15 });  \n",
    "Console.WriteLine($\"Response: {response}\");"
   ]
  },
  {
   "cell_type": "markdown",
   "metadata": {},
   "source": [
    "## Calling Native Functions (C# Plugin Functions)\n",
    "This section demonstrates how LLMs can automatically invoke C# plugin functions based on the input and the model's understanding of the task, such as checking store inventory or providing weather for bike rides."
   ]
  },
  {
   "cell_type": "markdown",
   "metadata": {},
   "source": [
    "**Step 1:** Enable automatic function calling\n",
    "\n",
    "You can configure the execution settings to allow the AI model to automatically call functions based on the prompt, similar to the function calling workflow. This is useful for tasks like checking bike availability or getting weather updates for planning a ride."
   ]
  },
  {
   "cell_type": "code",
   "execution_count": 18,
   "metadata": {
    "polyglot_notebook": {
     "kernelName": "csharp"
    }
   },
   "outputs": [],
   "source": [
    "using Microsoft.SemanticKernel;\n",
    "using Microsoft.SemanticKernel.Connectors.OpenAI;\n",
    "\n",
    "#pragma warning disable SKEXP0001\n",
    "var openAiPromptSettings = new OpenAIPromptExecutionSettings\n",
    "{\n",
    "    FunctionChoiceBehavior = FunctionChoiceBehavior.Auto()\n",
    "};\n",
    "#pragma warning restore SKEXP0001"
   ]
  },
  {
   "cell_type": "markdown",
   "metadata": {},
   "source": [
    "**Step 2:** Register a C# function and call it automatically\n",
    "\n",
    "Define and register C# functions (plugins) with the kernel. For the Contoso Bike Store, you might want a function to check bike availability or provide weather information for planning a ride. The AI model can invoke these functions automatically based on the user's prompt."
   ]
  },
  {
   "cell_type": "code",
   "execution_count": 21,
   "metadata": {
    "polyglot_notebook": {
     "kernelName": "csharp"
    }
   },
   "outputs": [
    {
     "ename": "Error",
     "evalue": "System.ArgumentException: An item with the same key has already been added. Key: weather\r\n   at System.Collections.Generic.Dictionary`2.TryInsert(TKey key, TValue value, InsertionBehavior behavior)\r\n   at System.Collections.Generic.Dictionary`2.Add(TKey key, TValue value)\r\n   at Microsoft.SemanticKernel.KernelPluginCollection.Add(KernelPlugin plugin)\r\n   at Microsoft.SemanticKernel.KernelExtensions.ImportPluginFromObject(Kernel kernel, Object target, String pluginName)\r\n   at Submission#21.<<Initialize>>d__0.MoveNext()\r\n--- End of stack trace from previous location ---\r\n   at Microsoft.CodeAnalysis.Scripting.ScriptExecutionState.RunSubmissionsAsync[TResult](ImmutableArray`1 precedingExecutors, Func`2 currentExecutor, StrongBox`1 exceptionHolderOpt, Func`2 catchExceptionOpt, CancellationToken cancellationToken)",
     "output_type": "error",
     "traceback": [
      "System.ArgumentException: An item with the same key has already been added. Key: weather\r\n",
      "   at System.Collections.Generic.Dictionary`2.TryInsert(TKey key, TValue value, InsertionBehavior behavior)\r\n",
      "   at System.Collections.Generic.Dictionary`2.Add(TKey key, TValue value)\r\n",
      "   at Microsoft.SemanticKernel.KernelPluginCollection.Add(KernelPlugin plugin)\r\n",
      "   at Microsoft.SemanticKernel.KernelExtensions.ImportPluginFromObject(Kernel kernel, Object target, String pluginName)\r\n",
      "   at Submission#21.<<Initialize>>d__0.MoveNext()\r\n",
      "--- End of stack trace from previous location ---\r\n",
      "   at Microsoft.CodeAnalysis.Scripting.ScriptExecutionState.RunSubmissionsAsync[TResult](ImmutableArray`1 precedingExecutors, Func`2 currentExecutor, StrongBox`1 exceptionHolderOpt, Func`2 catchExceptionOpt, CancellationToken cancellationToken)"
     ]
    }
   ],
   "source": [
    "// Define a plugin for weather information\n",
    "using System;\n",
    "using Microsoft.SemanticKernel;\n",
    "using System.ComponentModel;\n",
    "\n",
    "public class WeatherPlugin\n",
    "{\n",
    "    [KernelFunction(\"GetWeather\")]\n",
    "    [Description(\"This function provides a random weather report for a bike ride\")]\n",
    "    public string GetWeather()\n",
    "    {\n",
    "        var weatherOptions = new[] { \"Sunny\", \"Cloudy\", \"Rainy\", \"Windy\", \"Stormy\", \"Snowy\" };\n",
    "        var rnd = new Random();\n",
    "        var temp = rnd.Next(10, 35);\n",
    "        var weather = weatherOptions[rnd.Next(weatherOptions.Length)];\n",
    "        return $\"The weather is {weather} and {temp}°C. Perfect for a bike ride!\";\n",
    "    }\n",
    "}\n",
    "\n",
    "// Define a plugin for bike store inventory\n",
    "public class BikeStorePlugin\n",
    "{\n",
    "    [KernelFunction(\"CheckBikeAvailability\")]\n",
    "    [Description(\"This function checks if a specific bike model is available in the store\")]\n",
    "    public bool CheckBikeAvailability(string model)\n",
    "    {\n",
    "        // Simulate inventory lookup\n",
    "        var availableModels = new[] { \"Contoso Explorer\", \"Contoso CityLite\", \"Contoso TrailBlazer\", \"Contoso Speedster\" };\n",
    "        if (Array.Exists(availableModels, m => m.Equals(model, StringComparison.OrdinalIgnoreCase)))\n",
    "            return true;\n",
    "        return false;\n",
    "    }\n",
    "}\n",
    "\n",
    "// Register the plugins\n",
    "var weatherPlugin = new WeatherPlugin();\n",
    "kernel.ImportPluginFromObject(weatherPlugin, \"weather\");\n",
    "\n",
    "var bikeStorePlugin = new BikeStorePlugin();\n",
    "kernel.ImportPluginFromObject(bikeStorePlugin, \"bikeStore\");\n"
   ]
  },
  {
   "cell_type": "code",
   "execution_count": 22,
   "metadata": {
    "polyglot_notebook": {
     "kernelName": "csharp"
    }
   },
   "outputs": [
    {
     "name": "stdout",
     "output_type": "stream",
     "text": [
      "Response: The Contoso Speedster bike is not available in the store.\r\n"
     ]
    }
   ],
   "source": [
    "using Microsoft.SemanticKernel.Connectors.OpenAI;\n",
    "\n",
    "var chat = kernel.GetRequiredService<IChatCompletionService>();\n",
    "// Create prompts that will trigger the function calls\n",
    "string prompt1 = \"Is the Contoso Speedster bike available in the store?\";\n",
    "string prompt2 = \"What is the weather like for a bike ride today?\";\n",
    "\n",
    "var result1 = await chat.GetChatMessageContentAsync(prompt1, openAiPromptSettings, kernel);\n",
    "Console.WriteLine($\"Response: {result1}\");\n",
    "\n",
    "\n"
   ]
  },
  {
   "cell_type": "markdown",
   "metadata": {},
   "source": [
    "Now try another example where the model calls the `GetWeather` function to provide weather information for a bike ride."
   ]
  },
  {
   "cell_type": "code",
   "execution_count": 23,
   "metadata": {
    "polyglot_notebook": {
     "kernelName": "csharp"
    }
   },
   "outputs": [
    {
     "name": "stdout",
     "output_type": "stream",
     "text": [
      "Response: The weather today is stormy with a temperature of 29°C. It might not be safe for a bike ride due to the stormy conditions.\r\n"
     ]
    }
   ],
   "source": [
    "\n",
    "string prompt2 = \"What is the weather like for a bike ride today?\";\n",
    "var result2 = await chat.GetChatMessageContentAsync(prompt2, openAiPromptSettings, kernel);\n",
    "Console.WriteLine($\"Response: {result2}\");"
   ]
  }
 ],
 "metadata": {
  "kernelspec": {
   "display_name": ".NET (C#)",
   "language": "C#",
   "name": ".net-csharp"
  },
  "language_info": {
   "name": "polyglot-notebook"
  },
  "polyglot_notebook": {
   "kernelInfo": {
    "defaultKernelName": "csharp",
    "items": [
     {
      "aliases": [],
      "name": "csharp"
     }
    ]
   }
  }
 },
 "nbformat": 4,
 "nbformat_minor": 2
}
