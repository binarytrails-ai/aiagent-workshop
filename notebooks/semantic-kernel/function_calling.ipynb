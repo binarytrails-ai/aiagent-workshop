{
 "cells": [
  {
   "cell_type": "markdown",
   "metadata": {},
   "source": [
    "# Function Calling in Semantic Kernel\n",
    "\n",
    "This notebook demonstrates how functions work in the Microsoft Semantic Kernel. It shows how the model decides when to execute functions, how functions are invoked, and how Semantic Kernel orchestrates all the steps for function execution. You'll learn to define, register, and invoke both inline and C# plugin functions, and see how the AI model and kernel orchestration works to deliver response.\n",
    "\n",
    "**Objectives:**\n",
    "- Understand how Semantic Kernel orchestrates function execution.\n",
    "- Define and use inline semantic functions.\n",
    "- Pass parameters to functions.\n",
    "- Register and invoke C# plugin (native) functions.\n"
   ]
  },
  {
   "cell_type": "markdown",
   "metadata": {},
   "source": [
    "## Setup\n",
    "\n",
    "In this section, we will set up the Semantic Kernel environment and configure it to use different LLM providers."
   ]
  },
  {
   "cell_type": "markdown",
   "metadata": {},
   "source": [
    "**Step 1:** Install NuGet packages\n",
    "\n",
    "Install the required NuGet packages for Semantic Kernel and DotNetEnv to enable AI-powered workflows and environment variable management."
   ]
  },
  {
   "cell_type": "code",
   "execution_count": 1,
   "metadata": {
    "polyglot_notebook": {
     "kernelName": "csharp"
    }
   },
   "outputs": [
    {
     "data": {
      "text/html": [
       "<div><div></div><div></div><div><strong>Installed Packages</strong><ul><li><span>DotNetEnv, 3.1.0</span></li><li><span>Microsoft.SemanticKernel, 1.55.0</span></li></ul></div></div>"
      ]
     },
     "metadata": {},
     "output_type": "display_data"
    }
   ],
   "source": [
    "// Import Semantic Kernel\n",
    "#r \"nuget: Microsoft.SemanticKernel, 1.55.0\"\n",
    "#r \"nuget: DotNetEnv, 3.1.0\""
   ]
  },
  {
   "cell_type": "markdown",
   "metadata": {},
   "source": [
    "**Step 2:** Load environment variables\n",
    "\n",
    "Load environment variables from a `.env` file if present. This helps manage secrets and configuration settings for your application."
   ]
  },
  {
   "cell_type": "code",
   "execution_count": 2,
   "metadata": {
    "polyglot_notebook": {
     "kernelName": "csharp"
    }
   },
   "outputs": [
    {
     "name": "stdout",
     "output_type": "stream",
     "text": [
      "Loaded environment variables from d:\\personal\\aiagent-workshop\\notebooks\\semantic-kernel\\../..\\.env\r\n"
     ]
    }
   ],
   "source": [
    "using DotNetEnv;\n",
    "using System.IO;\n",
    "\n",
    "var envFilePath = Path.Combine(Environment.CurrentDirectory, \"../..\", \".env\");\n",
    "if (File.Exists(envFilePath))\n",
    "{\n",
    "    Env.Load(envFilePath);\n",
    "    Console.WriteLine($\"Loaded environment variables from {envFilePath}\");\n",
    "}\n",
    "else\n",
    "{\n",
    "    Console.WriteLine($\"No .env file found at {envFilePath}\");\n",
    "}"
   ]
  },
  {
   "cell_type": "markdown",
   "metadata": {},
   "source": [
    "**Step 3:** Instantiate the Semantic Kernel\n",
    "\n",
    "Create and configure a Kernel instance, which will be used to interact with AI models."
   ]
  },
  {
   "cell_type": "code",
   "execution_count": 3,
   "metadata": {
    "polyglot_notebook": {
     "kernelName": "csharp"
    }
   },
   "outputs": [],
   "source": [
    "using System.ClientModel;\n",
    "using OpenAI;\n",
    "using Microsoft.SemanticKernel;\n",
    "using Microsoft.SemanticKernel.ChatCompletion;\n",
    "using System.Text;\n",
    "\n",
    "OpenAIClient client = null;\n",
    "if(Environment.GetEnvironmentVariable(\"USE_AZURE_OPENAI\") == \"true\")\n",
    "{\n",
    "    // Configure Azure OpenAI client\n",
    "    var azureEndpoint = Environment.GetEnvironmentVariable(\"AZURE_OPENAI_ENDPOINT\");\n",
    "    var apiKey = Environment.GetEnvironmentVariable(\"AZURE_OPENAI_API_KEY\");\n",
    "    client = new OpenAIClient(new ApiKeyCredential(apiKey), new OpenAIClientOptions { Endpoint = new Uri(azureEndpoint) });\n",
    "}\n",
    "else if(Environment.GetEnvironmentVariable(\"USE_OPENAI\") == \"true\")\n",
    "{\n",
    "    // Configure OpenAI client\n",
    "    var apiKey = Environment.GetEnvironmentVariable(\"OPENAI_API_KEY\");\n",
    "    client = new OpenAIClient(new ApiKeyCredential(apiKey));\n",
    "}\n",
    "else if(Environment.GetEnvironmentVariable(\"USE_GITHUB\") == \"true\")\n",
    "{\n",
    "    // Configure GitHub model client\n",
    "    var uri = Environment.GetEnvironmentVariable(\"GITHUB_MODEL_ENDPOINT\");\n",
    "    var apiKey = Environment.GetEnvironmentVariable(\"GITHUB_TOKEN\");\n",
    "    client = new OpenAIClient(new ApiKeyCredential(apiKey), new OpenAIClientOptions { Endpoint = new Uri(uri) });\n",
    "}\n",
    "\n",
    "var modelId = Environment.GetEnvironmentVariable(\"MODEL\");\n",
    "// Create a chat completion service\n",
    "var builder = Kernel.CreateBuilder();\n",
    "builder.AddOpenAIChatCompletion(modelId, client);\n",
    "\n",
    "// Get the chat completion service\n",
    "Kernel kernel = builder.Build();"
   ]
  },
  {
   "cell_type": "markdown",
   "metadata": {},
   "source": [
    "## Calling Functions (Semantic Functions)\n",
    "\n",
    "This section demonstrates how to define and call functions within the Semantic Kernel. Functions can be defined as text (Semantic) or in C# (native). "
   ]
  },
  {
   "cell_type": "markdown",
   "metadata": {},
   "source": [
    "**Step 4:** Define an inline semantic function\n",
    "\n",
    "Create an inline semantic function using a prompt template. This function will summarize input content, with a configurable word \n",
    "count.\n",
    "\n",
    "\n",
    "Set up the execution settings for the inline function, such as maximum tokens, temperature, and top-p sampling. Then, create the function from the prompt template"
   ]
  },
  {
   "cell_type": "code",
   "execution_count": 4,
   "metadata": {
    "polyglot_notebook": {
     "kernelName": "csharp"
    }
   },
   "outputs": [],
   "source": [
    "string skPrompt = \"\"\"\n",
    "{{$input}}\n",
    "\n",
    "Summarize the content above with a maximum of {{$wordCount}} words.\n",
    "\n",
    "\"\"\";\n",
    "\n",
    "var promptTemplateConfig = new PromptTemplateConfig(skPrompt);\n",
    "var promptTemplateFactory = new KernelPromptTemplateFactory();\n",
    "var promptTemplate = promptTemplateFactory.Create(promptTemplateConfig);\n",
    "var summaryFunction = kernel.CreateFunctionFromPrompt(skPrompt);\n"
   ]
  },
  {
   "cell_type": "markdown",
   "metadata": {},
   "source": [
    "**Step 6:** Prepare input content\n",
    "\n",
    "Set up some content to summarize. In this example, the input describes AI agents and their capabilities."
   ]
  },
  {
   "cell_type": "code",
   "execution_count": 6,
   "metadata": {
    "polyglot_notebook": {
     "kernelName": "csharp"
    }
   },
   "outputs": [],
   "source": [
    "var input = \"\"\"\n",
    "AI agents are autonomous software programs that use artificial intelligence to perform tasks, make decisions, and interact with their environment. They can process data, learn from experience, and adapt their behavior to achieve specific goals. AI agents are used in applications such as virtual assistants, robotics, automated trading, and customer service chatbots. Their ability to operate independently and improve over time makes them valuable tools in a wide range of industries.\n",
    "\"\"\";"
   ]
  },
  {
   "cell_type": "markdown",
   "metadata": {},
   "source": [
    "**Step 7:** Call the inline function\n",
    "\n",
    "Send the input and word count to the inline function and receive a summary response from the AI model."
   ]
  },
  {
   "cell_type": "code",
   "execution_count": 7,
   "metadata": {
    "polyglot_notebook": {
     "kernelName": "csharp"
    }
   },
   "outputs": [
    {
     "name": "stdout",
     "output_type": "stream",
     "text": [
      "Response: AI agents autonomously perform tasks, learn, adapt, and improve efficiency.\r\n"
     ]
    }
   ],
   "source": [
    "// Call the kernel to get a response \n",
    "var response = await kernel.InvokeAsync(summaryFunction, new() { [\"input\"] = input, [\"wordCount\"] = 10 });  \n",
    "Console.WriteLine($\"Response: {response}\");"
   ]
  },
  {
   "cell_type": "markdown",
   "metadata": {},
   "source": [
    "## Calling Native Functions (C# Plugin Functions)\n",
    "This section demonstrates how LLMs can automatically invoke C# plugin functions based on the input and the model's understanding of the task."
   ]
  },
  {
   "cell_type": "markdown",
   "metadata": {},
   "source": [
    "**Step 1:** Enable automatic function calling\n",
    "\n",
    "You can configure the execution settings to allow the AI model to automatically call functions based on the prompt, similar to the function calling workflow."
   ]
  },
  {
   "cell_type": "code",
   "execution_count": 8,
   "metadata": {
    "polyglot_notebook": {
     "kernelName": "csharp"
    }
   },
   "outputs": [],
   "source": [
    "using Microsoft.SemanticKernel;\n",
    "using Microsoft.SemanticKernel.Connectors.OpenAI;\n",
    "\n",
    "#pragma warning disable SKEXP0001\n",
    "var openAiPromptSettings = new OpenAIPromptExecutionSettings\n",
    "{\n",
    "    FunctionChoiceBehavior = FunctionChoiceBehavior.Auto()\n",
    "};\n",
    "#pragma warning restore SKEXP0001"
   ]
  },
  {
   "cell_type": "markdown",
   "metadata": {},
   "source": [
    "**Step 2:** Register a C# function and call it automatically\n",
    "\n",
    "Define and register a C# function (plugin) with the kernel. Then, send a prompt that triggers the function call, and let the AI model invoke it automatically."
   ]
  },
  {
   "cell_type": "code",
   "execution_count": 11,
   "metadata": {
    "polyglot_notebook": {
     "kernelName": "csharp"
    }
   },
   "outputs": [
    {
     "ename": "Error",
     "evalue": "System.ArgumentException: An item with the same key has already been added. Key: weather\r\n   at System.Collections.Generic.Dictionary`2.TryInsert(TKey key, TValue value, InsertionBehavior behavior)\r\n   at System.Collections.Generic.Dictionary`2.Add(TKey key, TValue value)\r\n   at Microsoft.SemanticKernel.KernelPluginCollection.Add(KernelPlugin plugin)\r\n   at Microsoft.SemanticKernel.KernelExtensions.ImportPluginFromObject(Kernel kernel, Object target, String pluginName)\r\n   at Submission#11.<<Initialize>>d__0.MoveNext()\r\n--- End of stack trace from previous location ---\r\n   at Microsoft.CodeAnalysis.Scripting.ScriptExecutionState.RunSubmissionsAsync[TResult](ImmutableArray`1 precedingExecutors, Func`2 currentExecutor, StrongBox`1 exceptionHolderOpt, Func`2 catchExceptionOpt, CancellationToken cancellationToken)",
     "output_type": "error",
     "traceback": [
      "System.ArgumentException: An item with the same key has already been added. Key: weather\r\n",
      "   at System.Collections.Generic.Dictionary`2.TryInsert(TKey key, TValue value, InsertionBehavior behavior)\r\n",
      "   at System.Collections.Generic.Dictionary`2.Add(TKey key, TValue value)\r\n",
      "   at Microsoft.SemanticKernel.KernelPluginCollection.Add(KernelPlugin plugin)\r\n",
      "   at Microsoft.SemanticKernel.KernelExtensions.ImportPluginFromObject(Kernel kernel, Object target, String pluginName)\r\n",
      "   at Submission#11.<<Initialize>>d__0.MoveNext()\r\n",
      "--- End of stack trace from previous location ---\r\n",
      "   at Microsoft.CodeAnalysis.Scripting.ScriptExecutionState.RunSubmissionsAsync[TResult](ImmutableArray`1 precedingExecutors, Func`2 currentExecutor, StrongBox`1 exceptionHolderOpt, Func`2 catchExceptionOpt, CancellationToken cancellationToken)"
     ]
    }
   ],
   "source": [
    "// Define a function that returns random weather\n",
    "using System;\n",
    "using Microsoft.SemanticKernel;\n",
    "\n",
    "public class WeatherPlugin\n",
    "{\n",
    "    [KernelFunction]\n",
    "    public string GetRandomWeather()\n",
    "    {\n",
    "        var weatherOptions = new[] { \"Sunny\", \"Cloudy\", \"Rainy\", \"Windy\", \"Stormy\", \"Snowy\" };\n",
    "        var rnd = new Random();\n",
    "        var temp = rnd.Next(10, 35);\n",
    "        var weather = weatherOptions[rnd.Next(weatherOptions.Length)];\n",
    "        return $\"The weather is {weather} and {temp}°C.\";\n",
    "    }\n",
    "}\n",
    "\n",
    "// Register the plugin\n",
    "var plugin = new WeatherPlugin();\n",
    "kernel.ImportPluginFromObject(plugin, \"weather\");\n"
   ]
  },
  {
   "cell_type": "code",
   "execution_count": 12,
   "metadata": {
    "polyglot_notebook": {
     "kernelName": "csharp"
    }
   },
   "outputs": [
    {
     "name": "stdout",
     "output_type": "stream",
     "text": [
      "Response: AI agents autonomously perform tasks, learn, adapt, and improve efficiency.\r\n"
     ]
    }
   ],
   "source": [
    "using Microsoft.SemanticKernel.Connectors.OpenAI;\n",
    "\n",
    "\n",
    "var chat = kernel.GetRequiredService<IChatCompletionService>();\n",
    "// Create a prompt that will trigger the function call\n",
    "string prompt = \"What is the weather today?\";\n",
    "var result = await chat.GetChatMessageContentAsync(prompt, openAiPromptSettings, kernel);\n",
    "Console.WriteLine($\"Response: {response}\");\n"
   ]
  }
 ],
 "metadata": {
  "kernelspec": {
   "display_name": ".NET (C#)",
   "language": "C#",
   "name": ".net-csharp"
  },
  "language_info": {
   "name": "polyglot-notebook"
  },
  "polyglot_notebook": {
   "kernelInfo": {
    "defaultKernelName": "csharp",
    "items": [
     {
      "aliases": [],
      "name": "csharp"
     }
    ]
   }
  }
 },
 "nbformat": 4,
 "nbformat_minor": 2
}
