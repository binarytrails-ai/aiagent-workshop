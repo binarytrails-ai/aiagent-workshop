{
 "cells": [
  {
   "cell_type": "markdown",
   "metadata": {},
   "source": [
    "# Interacting with Large Language Models using Semantic Kernel\n",
    "\n",
    "This notebook demonstrates how to interact with large language models (LLMs) using the Microsoft Semantic Kernel in .NET.\n",
    "\n",
    "**Objectives:**\n",
    "- Understand how to set up Semantic Kernel for LLM interaction in .NET.\n",
    "- Learn to configure and connect to different model providers (OpenAI, Azure OpenAI, GitHub models).\n",
    "- Use model parameters to customize model behavior.\n",
    "- Send prompts to LLMs and receive responses.\n",
    "- Use prompt templates and kernel arguments for dynamic, reusable prompts."
   ]
  },
  {
   "cell_type": "markdown",
   "metadata": {},
   "source": [
    "## Setup\n",
    "\n",
    "In this section, we will set up the Semantic Kernel environment and configure it to use different LLM providers."
   ]
  },
  {
   "attachments": {},
   "cell_type": "markdown",
   "metadata": {},
   "source": [
    "**Step 1**: Install NuGet packages\n",
    "\n",
    "To get started with Semantic Kernel, you need to install the required NuGet packages. These packages provide the core functionality for interacting with AI models and managing environment variables. Specifically:\n",
    "- `Microsoft.SemanticKernel` enables you to build and run AI-powered workflows.\n",
    "- `DotNetEnv` allows you to load environment variables from a `.env` file, making it easier to manage secrets and configuration settings."
   ]
  },
  {
   "cell_type": "code",
   "execution_count": 1,
   "metadata": {
    "dotnet_interactive": {
     "language": "csharp"
    },
    "polyglot_notebook": {
     "kernelName": "csharp"
    }
   },
   "outputs": [
    {
     "data": {
      "text/html": [
       "<div><div></div><div></div><div><strong>Installed Packages</strong><ul><li><span>DotNetEnv, 3.1.0</span></li><li><span>Microsoft.SemanticKernel, 1.55.0</span></li></ul></div></div>"
      ]
     },
     "metadata": {},
     "output_type": "display_data"
    }
   ],
   "source": [
    "// Import Semantic Kernel\n",
    "#r \"nuget: Microsoft.SemanticKernel, 1.55.0\"\n",
    "#r \"nuget: DotNetEnv, 3.1.0\""
   ]
  },
  {
   "cell_type": "markdown",
   "metadata": {},
   "source": [
    "**Step 2**: Read environment variables\n",
    "\n",
    "  In this step, we load these variables from a `.env` file (if present) so that they can be accessed by the application.\n"
   ]
  },
  {
   "cell_type": "code",
   "execution_count": 21,
   "metadata": {
    "polyglot_notebook": {
     "kernelName": "csharp"
    }
   },
   "outputs": [
    {
     "name": "stdout",
     "output_type": "stream",
     "text": [
      "Loaded environment variables from d:\\personal\\aiagent-workshop\\notebooks\\semantic-kernel\\../..\\.env\r\n"
     ]
    }
   ],
   "source": [
    "using DotNetEnv;\n",
    "using System.IO;\n",
    "\n",
    "var envFilePath = Path.Combine(Environment.CurrentDirectory, \"../..\", \".env\");\n",
    "if (File.Exists(envFilePath))\n",
    "{\n",
    "    Env.Load(envFilePath);\n",
    "    Console.WriteLine($\"Loaded environment variables from {envFilePath}\");\n",
    "}\n",
    "else\n",
    "{\n",
    "    Console.WriteLine($\"No .env file found at {envFilePath}\");\n",
    "}"
   ]
  },
  {
   "attachments": {},
   "cell_type": "markdown",
   "metadata": {},
   "source": [
    "**Step 3**: Instantiate the Kernel\n",
    "\n",
    "The Semantic Kernel is the core component that orchestrates AI services and plugins. In this step, we create and configure a Kernel instance, which will be used to interact with AI models."
   ]
  },
  {
   "cell_type": "code",
   "execution_count": 22,
   "metadata": {
    "dotnet_interactive": {
     "language": "csharp"
    },
    "polyglot_notebook": {
     "kernelName": "csharp"
    }
   },
   "outputs": [],
   "source": [
    "using System.ClientModel;\n",
    "using OpenAI;\n",
    "using Microsoft.SemanticKernel;\n",
    "using Microsoft.SemanticKernel.ChatCompletion;\n",
    "using System.Text;\n",
    "\n",
    "OpenAIClient client = null;\n",
    "if(Environment.GetEnvironmentVariable(\"USE_AZURE_OPENAI\") == \"true\")\n",
    "{\n",
    "    // Configure Azure OpenAI client\n",
    "    var azureEndpoint = Environment.GetEnvironmentVariable(\"AZURE_OPENAI_ENDPOINT\");\n",
    "    var apiKey = Environment.GetEnvironmentVariable(\"AZURE_OPENAI_API_KEY\");\n",
    "    client = new OpenAIClient(new ApiKeyCredential(apiKey), new OpenAIClientOptions { Endpoint = new Uri(azureEndpoint) });\n",
    "}\n",
    "else if(Environment.GetEnvironmentVariable(\"USE_OPENAI\") == \"true\")\n",
    "{\n",
    "    // Configure OpenAI client\n",
    "    var apiKey = Environment.GetEnvironmentVariable(\"OPENAI_API_KEY\");\n",
    "    client = new OpenAIClient(new ApiKeyCredential(apiKey));\n",
    "}\n",
    "else if(Environment.GetEnvironmentVariable(\"USE_GITHUB\") == \"true\")\n",
    "{\n",
    "    // Configure GitHub model client\n",
    "    var uri = Environment.GetEnvironmentVariable(\"GITHUB_MODEL_ENDPOINT\");\n",
    "    var apiKey = Environment.GetEnvironmentVariable(\"GITHUB_TOKEN\");\n",
    "    client = new OpenAIClient(new ApiKeyCredential(apiKey), new OpenAIClientOptions { Endpoint = new Uri(uri) });\n",
    "}\n",
    "\n",
    "var modelId = Environment.GetEnvironmentVariable(\"MODEL\");\n",
    "// Create a chat completion service\n",
    "var builder = Kernel.CreateBuilder();\n",
    "builder.AddOpenAIChatCompletion(modelId, client);\n",
    "\n",
    "// Get the chat completion service\n",
    "Kernel kernel = builder.Build();"
   ]
  },
  {
   "cell_type": "markdown",
   "metadata": {},
   "source": [
    "## Calling LLMs\n",
    "\n",
    "This section demonstrates how to call different LLMs using the Semantic Kernel."
   ]
  },
  {
   "cell_type": "markdown",
   "metadata": {},
   "source": [
    "**Step 1**: Call the Kernel\n",
    "\n",
    "In this step, we send a prompt to the Semantic Kernel and receive a response from the AI model. \n",
    "\n",
    "The model uses the training data to generate a response based on the input prompt. In the next example, you will see how to use your own data as the context for the model."
   ]
  },
  {
   "cell_type": "code",
   "execution_count": 24,
   "metadata": {
    "polyglot_notebook": {
     "kernelName": "csharp"
    }
   },
   "outputs": [
    {
     "name": "stdout",
     "output_type": "stream",
     "text": [
      "Response: Of course! Based on your preferences for lightweight construction, quality suspension, and reliable disc brakes, here are a few bike types and specific models to consider for both daily commuting and weekend rides. I'll outline advantages and disadvantages for each to help you decide:\n",
      "\n",
      "---\n",
      "\n",
      "### 1. **Hybrid Bike**\n",
      "**Example Models**: Trek FX Sport 4, Cannondale Quick Disc 3, Giant Escape Disc Series\n",
      "\n",
      "#### Advantages:\n",
      "- **Lightweight Frame**: Most hybrid bikes are made from aluminum or carbon, ensuring a lightweight build for quick acceleration and easy handling.\n",
      "- **Versatility**: Designed for smooth tarmac and light off-roading, hybrids are ideal for commuting and casual weekend rides.\n",
      "- **Flat Handlebars**: Offer comfortable, upright positioning for city riding.\n",
      "- **Reliable Disc Brakes**: Equipped with hydraulic or mechanical disc brakes for consistent stopping power in all weather.\n",
      "- **Low Maintenance**: Simpler drivetrains compared to mountain bikes, making them easy to maintain.\n",
      "\n",
      "#### Disadvantages:\n",
      "- **Limited Suspension**: Most hybrids have a rigid fork or minimal front suspension, which can make rougher rides less comfortable.\n",
      "- **Speed Performance**: Not as fast as road bikes due to wider tires and an upright position. \n",
      "\n",
      "---\n",
      "\n",
      "### 2. **Gravel Bike**\n",
      "**Example Models**: Specialized Diverge, Cannondale Topstone, Canyon Grail\n",
      "\n",
      "#### Advantages:\n",
      "- **Adaptability**: Designed for both paved roads and gravel trails, making them ideal for commuting and adventurous weekend rides.\n",
      "- **Drop Bars**: Provide multiple hand positions, offering greater efficiency and comfort on longer rides.\n",
      "- **Disc Brakes**: Almost all gravel bikes feature hydraulic disc brakes for dependable stopping power.\n",
      "- **Lightweight Material Options**: Often made from aluminum, carbon, or steel, combining durability with performance.\n",
      "- **Room for Accessories**: Many have rack and fender mounts for panniers, great for commuting.\n",
      "\n",
      "#### Disadvantages:\n",
      "- **Stiffer Ride**: Not ideal for very rough terrain unless paired with wider tires or suspension seat posts.\n",
      "- **Price**: Gravel bikes can be more expensive than hybrids due to modern technology and premium components.\n",
      "\n",
      "---\n",
      "\n",
      "### 3. **Commuter/Fitness Bike**\n",
      "**Example Models**: Marin Presidio 2, Specialized Sirrus 4.0, Cube Hyde Pro\n",
      "\n",
      "#### Advantages:\n",
      "- **Designed for Urban Use**: Built with commuters in mind, they prioritize comfort, reliability, and convenience.\n",
      "- **Efficient Design**: Similar to hybrids but often include urban-specific features like belt drives and internal gearing.\n",
      "- **Disc Brakes**: Reliable braking in varied weather conditions.\n",
      "- **Low Weight**: Fitness-oriented commuter bikes are often made with lightweight materials for easier pedaling.\n",
      "- **Minimal Maintenance Options**: Some models feature belt drives and internally-geared hubs, reducing wear and tear.\n",
      "\n",
      "#### Disadvantages:\n",
      "- **Limited Adventure Capability**: These bikes aren't optimized for rough weekend trails or off-road rides.\n",
      "- **Less Suspension**: Typically rigid forks, better for smooth roads.\n",
      "\n",
      "---\n",
      "\n",
      "### 4. **Hardtail Mountain Bike**\n",
      "**Example Models**: Trek Marlin 7, Specialized Rockhopper Expert, Giant Talon\n",
      "\n",
      "#### Advantages:\n",
      "- **Excellent Suspension**: Features front suspension forks for absorbing shocks, ideal for rougher terrain or occasional trails.\n",
      "- **Disc Brakes**: Typically hydraulic, offering great stopping power.\n",
      "- **Durability**: Heavily built for rugged conditions, meaning they last a long time.\n",
      "- **Grip and Stability**: Wider tires enhance comfort, grip, and control on loose surfaces.\n",
      "\n",
      "#### Disadvantages:\n",
      "- **Weight**: Heavier than hybrids and gravel bikes due to more robust frames and components.\n",
      "- **Efficiency**: Slower and less efficient on paved roads.\n",
      "- **Tire Profile**: Knobby tires create higher rolling resistance on asphalt, reducing speed.\n",
      "\n",
      "---\n",
      "\n",
      "### My Recommendations\n",
      "- **Best for Commuting + Light Adventure:** A **hybrid bike** like the Trek FX Sport 4, as it balances lightweight, affordability, and comfort.\n",
      "- **Best All-Rounder:** A **gravel bike** like the Specialized Diverge if you're okay spending slightly more for added versatility and performance on varied terrain.\n",
      "- **Urban-Focused:** A **commuter bike** like the Marin Presidio 2, which is highly practical for city use with minimal maintenance.\n",
      "- **Trail Adventure Focus:** A **hardtail mountain bike** like the Trek Marlin 7 if you’re inclined toward weekend off-road rides and don’t prioritize commuting speed.\n",
      "\n",
      "Consider your most frequent riding conditions (city vs. trails) to make the best choice. Let me know if you'd like more in-depth comparisons or help with bike sizing!\r\n"
     ]
    }
   ],
   "source": [
    "using Microsoft.SemanticKernel.Connectors.OpenAI;\n",
    "\n",
    "//call the kernel to get a response\n",
    "var prompt = @\"I want to buy a new bike for daily commuting to work and weekend rides. \n",
    "My preferences are a lightweight frame, quality suspension, and reliable disc brakes. \n",
    "Could you recommend a few suitable options and explain the advantages and disadvantages of each for my needs?\";\n",
    "var response = await kernel.InvokePromptAsync(prompt);\n",
    "Console.WriteLine($\"Response: {response}\");"
   ]
  },
  {
   "cell_type": "markdown",
   "metadata": {},
   "source": [
    "**Step 2**: Use Prompt Templates and Kernel Arguments\n",
    "\n",
    "Prompt templates allow you to create reusable prompts with placeholders for dynamic values. Kernel arguments let you pass values to these placeholders at runtime, making your prompts flexible and powerful."
   ]
  },
  {
   "cell_type": "code",
   "execution_count": 27,
   "metadata": {
    "polyglot_notebook": {
     "kernelName": "csharp"
    }
   },
   "outputs": [
    {
     "name": "stdout",
     "output_type": "stream",
     "text": [
      "Response: Certainly! Hybrid bikes are a fantastic choice for riders who want versatility, comfort, and performance for both casual rides and commuting. They combine features of road bikes and mountain bikes, making them ideal for a variety of terrains, from city streets to light trails. Below, you'll find a list of hybrid bikes across different price ranges to suit your needs and preferences:\n",
      "\n",
      "---\n",
      "\n",
      "### **1. TREK Verve Series**\n",
      "- **Key Features:**\n",
      "  - Lightweight aluminum frame.\n",
      "  - Upright geometry for added comfort.\n",
      "  - Ergonomic grips and a plush saddle.\n",
      "  - Equipped with disc brakes for all-weather stopping power.\n",
      "  - Ideal for fitness rides and city commuting.\n",
      "- **Why Choose It?** Perfect for casual riders who prioritize comfort and reliability.\n",
      "\n",
      "---\n",
      "\n",
      "### **2. Specialized Sirrus**\n",
      "- **Key Features:**\n",
      "  - Sleek and lightweight aluminum frame.\n",
      "  - Internal cable routing for cleaner aesthetics.\n",
      "  - Suspension seat post for added comfort (on select models).\n",
      "  - Some versions include carbon forks for a smoother ride.\n",
      "- **Why Choose It?** Great for fitness-oriented riders and urban commuters who want efficiency and speed.\n",
      "\n",
      "---\n",
      "\n",
      "### **3. Giant Escape Series**\n",
      "- **Key Features:**\n",
      "  - Lightweight ALUXX aluminum frame.\n",
      "  - MicroSHIFT or Shimano drivetrains (depending on the model).\n",
      "  - Flat handlebars for easy maneuvering in traffic.\n",
      "  - Puncture-resistant tires.\n",
      "- **Why Choose It?** A reliable all-around hybrid bike that balances performance and affordability.\n",
      "\n",
      "---\n",
      "\n",
      "### **4. Cannondale Quick CX**\n",
      "- **Key Features:**\n",
      "  - Front suspension fork for light trail riding.\n",
      "  - Durable and versatile 700c wheels.\n",
      "  - Powerful hydraulic disc brakes for improved control in varied conditions.\n",
      "  - Upright geometry for comfort on long rides.\n",
      "- **Why Choose It?** Excellent choice for riders who want a hybrid bike capable of handling rougher paths.\n",
      "\n",
      "---\n",
      "\n",
      "### **5. Marin Fairfax Series**\n",
      "- **Key Features:**\n",
      "  - Lightweight Series 2 or 3 aluminum frames.\n",
      "  - Fitness-focused geometry with a sporty feel.\n",
      "  - Hydraulic disc brakes and puncture-resistant tires.\n",
      "  - Models like the Fairfax 2 or 3 include Shimano drivetrains for smooth shifting.\n",
      "- **Why Choose It?** Best for fitness enthusiasts and those looking for a quick, nimble commuter bike.\n",
      "\n",
      "---\n",
      "\n",
      "### **6. Diamondback Division Series**\n",
      "- **Key Features:**\n",
      "  - Durable aluminum frame with a sporty yet comfortable fit.\n",
      "  - Grip shifters and reliable Shimano gears.\n",
      "  - Wider tires for mixed-terrain use.\n",
      "- **Why Choose It?** Affordable and versatile hybrid bike with robust components for urban and suburban riding.\n",
      "\n",
      "---\n",
      "\n",
      "### **7. Co-op Cycles CTY 1.1 / CTY 2.1**\n",
      "- **Key Features:**\n",
      "  - Available exclusively at REI.\n",
      "  - Aluminum frame with a comfortable upright seating position.\n",
      "  - Hydraulic disc brakes and high-quality Shimano drivetrains.\n",
      "  - CTY 2.1 offers front suspension for added versatility.\n",
      "- **Why Choose It?** Perfect for REI members who want a great-value bike with excellent performance.\n",
      "\n",
      "---\n",
      "\n",
      "### **8. Schwinn Discover Hybrid**\n",
      "- **Key Features:**\n",
      "  - Steel frame with swept-back handlebars for a relaxed riding position.\n",
      "  - Shimano 21-speed drivetrain with grip shifters.\n",
      "  - Built-in rear rack and fenders for commuting or grocery runs.\n",
      "- **Why Choose It?** A budget-friendly, feature-rich option for urban riders.\n",
      "\n",
      "---\n",
      "\n",
      "### **9. Priority Classic Plus L Train**\n",
      "- **Key Features:**\n",
      "  - Rustproof aluminum frame.\n",
      "  - Low-maintenance Gates Carbon Belt Drive.\n",
      "  - Puncture-resistant tires and grease-free components.\n",
      "  - Great for commuters who value simplicity.\n",
      "- **Why Choose It?** Ideal for urban riders who want a sleek, low-maintenance bike.\n",
      "\n",
      "---\n",
      "\n",
      "### **10. Norco Indie Series**\n",
      "- **Key Features:**\n",
      "  - Lightweight alloy frame with urban geometry.\n",
      "  - Wide tires for better traction on mixed terrain.\n",
      "  - Hydraulic disc brakes for superior stopping power.\n",
      "- **Why Choose It?** Excellent hybrid bike for riders tackling urban streets and gravel paths.\n",
      "\n",
      "---\n",
      "\n",
      "### Things to Consider When Choosing a Hybrid Bike:\n",
      "- **Frame Material:** Aluminum is lightweight and affordable, while steel is sturdier and offers more comfort.\n",
      "- **Brakes:** Opt for disc brakes (hydraulic or mechanical) for better stopping power in different conditions.\n",
      "- **Gearing:** If you're in a hilly area, look for a hybrid with plenty of gears.\n",
      "- **Suspension:** Optional front suspension can help absorb shocks on rougher terrain but adds weight.\n",
      "- **Purpose:** Determine whether you'll mainly use the bike for commuting, fitness, or light trail riding.\n",
      "\n",
      "If you'd like additional recommendations tailored to your specific needs or budget, feel free to ask!\r\n"
     ]
    }
   ],
   "source": [
    "// Define a prompt template with a placeholder\n",
    "string template = \"Can you tell me about some options for {{$bike_type}} bikes?\";\n",
    "// Create a function from the prompt template\n",
    "var templateFunction = kernel.CreateFunctionFromPrompt(template);\n",
    "\n",
    "// Prepare kernel arguments\n",
    "var arguments = new KernelArguments\n",
    "{\n",
    "    [\"bike_type\"] = \"Hybrid\"\n",
    "};\n",
    "\n",
    "// Call the kernel with the function and arguments\n",
    "var response = await kernel.InvokeAsync(templateFunction, arguments);\n",
    "Console.WriteLine($\"Response: {response}\");"
   ]
  },
  {
   "cell_type": "markdown",
   "metadata": {},
   "source": [
    "**Step 3**: Try with another bike\n",
    "\n",
    "You can reuse the same prompt template and function with different arguments to get answers for other countries."
   ]
  },
  {
   "cell_type": "code",
   "execution_count": 28,
   "metadata": {
    "polyglot_notebook": {
     "kernelName": "csharp"
    }
   },
   "outputs": [
    {
     "name": "stdout",
     "output_type": "stream",
     "text": [
      "Response: Sure! Road bikes are designed for speed and efficiency on paved surfaces, making them an excellent choice for recreational riders, fitness enthusiasts, and competitive cyclists. There are many great options available across various budgets and styles. Here’s a general breakdown of some popular road bike categories and models that might suit your needs:\n",
      "\n",
      "---\n",
      "\n",
      "### **1. Entry-Level Road Bikes**\n",
      "These are ideal for beginners or those looking for an affordable way to get into road biking.\n",
      "\n",
      "- **Specialized Allez**\n",
      "  - Lightweight aluminum frame with smooth handling and an accessible price point.\n",
      "  - Offers a confident ride and quality Shimano components.\n",
      "\n",
      "- **Trek Domane AL 2**\n",
      "  - Endurance-focused geometry for comfort on longer rides.\n",
      "  - Made with a lightweight aluminum frame and features Shimano Claris drivetrain.\n",
      "\n",
      "- **Giant Contend AR**\n",
      "  - A versatile bike that’s comfortable for long-distance rides and compatible with wider tires.\n",
      "  - Aluminum frame with carbon fork for a smooth ride.\n",
      "\n",
      "---\n",
      "\n",
      "### **2. Mid-Range Road Bikes**\n",
      "For cyclists who want improved performance and a balance between lightweight materials and advanced components.\n",
      "\n",
      "- **Cannondale Synapse Carbon**\n",
      "  - Designed for endurance rides, it features a carbon frame for a smoother, more forgiving ride.\n",
      "  - Includes endurance geometry and vibrant handling.\n",
      "\n",
      "- **Specialized Roubaix**\n",
      "  - Known for its Future Shock 1.5 technology, which absorbs road vibrations.\n",
      "  - Carbon frame makes it lightweight and efficient.\n",
      "\n",
      "- **Bianchi Via Nirone 7**\n",
      "  - Classic Italian design with smooth handling.\n",
      "  - Versatile endurance-focused build that is suitable for both speed and comfort.\n",
      "\n",
      "---\n",
      "\n",
      "### **3. Performance Road Bikes**\n",
      "Built for speed and competitive riders; these bikes often feature premium materials like carbon fiber and top-tier components.\n",
      "\n",
      "- **Trek Émonda SLR**\n",
      "  - Ultra-lightweight carbon frame for climbing and all-day speed.\n",
      "  - Shimano Ultegra or SRAM Force groupset, optimized for performance.\n",
      "\n",
      "- **Specialized Tarmac SL7**\n",
      "  - Combines aero performance with feathery lightness for a versatile race bike.\n",
      "  - Utilizes FACT carbon and top-tier components.\n",
      "\n",
      "- **Canyon Aeroad CF SLX**\n",
      "  - Aerodynamic road frame optimized for speed and efficiency.\n",
      "  - Competitive pricing for the components and performance you get.\n",
      "\n",
      "---\n",
      "\n",
      "### **4. Gravel-Ready Road Bikes**\n",
      "For riders who want a bike capable of handling both paved roads and light off-road adventures.\n",
      "\n",
      "- **Cannondale Topstone**\n",
      "  - Gravel-ready design with wider tires and comfortable geometry.\n",
      "  - Available with a range of drivetrains, including Shimano GRX.\n",
      "\n",
      "- **Giant Revolt**\n",
      "  - Versatile gravel bike with a lightweight carbon or aluminum frame.\n",
      "  - Ideal for mixed-terrain adventures.\n",
      "\n",
      "- **Salsa Warroad**\n",
      "  - Positioned as an \"all-road\" bike capable of gravel and road duty.\n",
      "  - Designed for long distances and adventure riders.\n",
      "\n",
      "---\n",
      "\n",
      "### **5. Premium and High-End Road Bikes**\n",
      "For riders who want cutting-edge technology and performance.\n",
      "\n",
      "- **Pinarello Dogma F**\n",
      "  - Iconic race bike known for winning Tour de France titles.\n",
      "  - Aerodynamic, stiff, and incredibly lightweight.\n",
      "\n",
      "- **Colnago V4Rs**\n",
      "  - Offers exceptional Italian craftsmanship and attention to detail.\n",
      "  - Focuses on speed, aerodynamics, and comfort for pro-level cyclists.\n",
      "\n",
      "- **BMC Teammachine SLR01**\n",
      "  - Precision-engineered carbon race bike that's stiff, lightweight, and responsive.\n",
      "  - Designed for climbing and efficient energy transfer.\n",
      "\n",
      "---\n",
      "\n",
      "### **Factors to Consider When Choosing a Road Bike**\n",
      "1. **Frame Material**  \n",
      "   - Aluminum: Affordable and lightweight.  \n",
      "   - Carbon Fiber: More expensive but ultra-light and absorbs vibrations better.  \n",
      "   - Steel: Comfortable and durable, though heavier.  \n",
      "   - Titanium: Lightweight, durable, and resistant to corrosion.\n",
      "\n",
      "2. **Geometry**  \n",
      "   - **Racing Geometry**: Aggressive, stretched-out position for aerodynamics and speed.  \n",
      "   - **Endurance Geometry**: More upright and comfortable for long rides.\n",
      "\n",
      "3. **Groupset and Gearing**  \n",
      "   - Popular groupset manufacturers include Shimano (Claris, Tiagra, 105, Ultegra, Dura-Ace), SRAM (Apex, Rival, Force, Red), and Campagnolo.  \n",
      "   - Choose a groupset based on your budget and performance needs.\n",
      "\n",
      "4. **Wheelset and Tires**  \n",
      "   - Entry-level bikes often feature heavier wheels, while premium ones include lightweight, aerodynamic wheelsets.  \n",
      "   - Wider tires (28mm-35mm) are trending for greater comfort and versatility.\n",
      "\n",
      "5. **Intended Use**  \n",
      "   - Racing and performance vs. endurance and recreational riding.\n",
      "\n",
      "---\n",
      "\n",
      "If you share your budget, intended use, or features you're looking for, I can help narrow down the options further!\r\n"
     ]
    }
   ],
   "source": [
    "arguments[\"bike_type\"] = \"Road\";\n",
    "response = await kernel.InvokeAsync(templateFunction, arguments);\n",
    "Console.WriteLine($\"Response: {response}\");"
   ]
  },
  {
   "cell_type": "markdown",
   "metadata": {},
   "source": [
    "## Using System Prompt and User Prompt\n",
    "\n",
    "Semantic Kernel allows you to provide both a system prompt (to guide the model's behavior) and a user prompt (the actual user input). This is useful for customizing the assistant's persona or instructions for a conversation."
   ]
  },
  {
   "cell_type": "code",
   "execution_count": 31,
   "metadata": {
    "polyglot_notebook": {
     "kernelName": "csharp"
    }
   },
   "outputs": [
    {
     "name": "stdout",
     "output_type": "stream",
     "text": [
      "Response: Great question! For city commuting, you’ll want a bike that’s comfortable, efficient, and well-suited for urban terrain. Here are some factors to consider and suggestions:\n",
      "\n",
      "### **Best Options for City Commuting:**\n",
      "1. **Hybrid Bikes**  \n",
      "   - These are super versatile and combine the speed of a road bike with the comfort of a mountain bike. They’re perfect for commuting on paved roads and navigating through traffic. Look for options with upright handlebars for better visibility and comfort.\n",
      "   - Key benefits: Lightweight, easy to ride, and great for short-to-medium distances.\n",
      "\n",
      "2. **Electric Bikes (E-Bikes)**  \n",
      "   - If you want to commute without breaking a sweat or need an extra boost for longer rides, e-bikes are an awesome choice. They come with pedal-assist features that make hills and long stretches a breeze.\n",
      "   - Key benefits: Time-saving, energy-efficient, and an eco-friendly alternative to cars.\n",
      "\n",
      "3. **Commuter or Urban Bikes**  \n",
      "   - These bikes are specifically designed for city life. They often come with fenders, a chain guard to protect your clothes, and racks for carrying bags (or groceries!). Some even have built-in lights for safety.\n",
      "   - Key benefits: Purpose-built for commuting, low-maintenance, and practical for everyday use.\n",
      "\n",
      "### **Key Features to Look For:**\n",
      "- **Durability:** Since commuting bikes take on daily wear-and-tear, opt for a sturdy frame.\n",
      "- **Tires:** Wider tires with some puncture resistance can handle unpredictable city roads.\n",
      "- **Gearing:** Unless your commute is uphill-heavy, single-speed or 7-8 gear options are usually enough.\n",
      "- **Comfort:** Ergonomic grips and a comfortable saddle make all the difference.\n",
      "\n",
      "### **Bike Recommendation:**\n",
      "I can give you a more tailored suggestion if I know a bit more about your commute. For example:\n",
      "- **How long is your commute?**\n",
      "- **Is the route flat, hilly, or mixed?**\n",
      "- **Do you need to carry anything (e.g., a laptop or groceries)?**\n",
      "\n",
      "Let me know, and we’ll find the perfect commuting companion for you! 🚲\r\n"
     ]
    }
   ],
   "source": [
    "using Microsoft.SemanticKernel.Connectors.OpenAI;\n",
    "\n",
    "// Enhanced Example: Use a richer system prompt and inject dynamic bike data\n",
    "\n",
    "// Example bike data (in a real scenario, this could come from a database or API)\n",
    "var bikeData = @\"\n",
    "| Model           | Store             | Description                                             | Tags                        |\n",
    "|-----------------|-------------------|---------------------------------------------------------|-----------------------------|\n",
    "| Mountain Bikes  | Contoso Bike Store| Durable, great for off-road and trails.                 | mountain, off-road, trails  |\n",
    "| Road Bikes      | Contoso Bike Store| Lightweight, fast, ideal for pavement.                  | road, lightweight, pavement |\n",
    "| Hybrid Bikes    | Contoso Bike Store| Versatile, comfortable, suitable for city and light trails.| hybrid, city, comfort    |\n",
    "| Electric Bikes  | Contoso Bike Store| Assisted pedaling, perfect for longer commutes or hilly areas.| electric, commute, hills |\n",
    "\";\n",
    "\n",
    "// Compose the system prompt with bike data injected\n",
    "var systemPrompt = $@\"You are a friendly, knowledgeable assistant for Contoso Bike Store.\n",
    "Answer questions about bikes with enthusiasm, clarity, and practical advice. If you are unsure, say 'I don't know.'\n",
    "Always provide helpful tips, context, and encourage follow-up questions.\n",
    "Maintain an approachable, supportive tone, and focus on making the customer feel welcome and informed.\n",
    "\n",
    "Your response will be based on the following bike data:\n",
    "\n",
    "{{$bikeData}}\n",
    "\";\n",
    "\n",
    "var chatHistory = new ChatHistory();\n",
    "chatHistory.AddSystemMessage(systemPrompt);\n",
    "chatHistory.AddAssistantMessage(\"Hi there! Welcome to Contoso Bike Store. How can I assist you today?\");\n",
    "chatHistory.AddUserMessage(\"What is the best bike for city commuting?\");\n",
    "\n",
    "var arguments = new KernelArguments();\n",
    "arguments[\"bikeData\"] = bikeData;\n",
    "\n",
    "var chat = kernel.GetRequiredService<IChatCompletionService>(); \n",
    "var chatResponse = await chat.GetChatMessageContentAsync(chatHistory);\n",
    "Console.WriteLine($\"Response: {chatResponse}\");"
   ]
  },
  {
   "cell_type": "markdown",
   "metadata": {},
   "source": [
    "## Model Parameters\n",
    "\n",
    "Large language models expose several parameters that control the behavior and quality of their responses. \n",
    "\n",
    "**Common Model Parameters:**\n",
    "- **Temperature:** Controls the randomness of the output. Lower values (e.g., 0.2) make the output more focused and deterministic, while higher values (e.g., 0.8) make it more creative and random.\n",
    "- **MaxTokens:** Limits the maximum number of tokens (words or word pieces) in the response. Useful for controlling the length of the output.\n",
    "- **TopP:** Makes the model pick from the most likely words until their total chance adds up to TopP (like 0.5). Lower values make the answer more focused.\n",
    "\n",
    "> **Note:** The exact set of parameters and their effects may vary depending on the model provider (OpenAI, Azure OpenAI, etc.)."
   ]
  },
  {
   "cell_type": "code",
   "execution_count": 32,
   "metadata": {
    "polyglot_notebook": {
     "kernelName": "csharp"
    }
   },
   "outputs": [
    {
     "name": "stdout",
     "output_type": "stream",
     "text": [
      "Response: Beneath the sky so vast and blue,  \n",
      "The ocean whispers, deep and true.  \n",
      "Its waves compose a timeless song,  \n",
      "A rhythm ancient, fierce, and strong.  \n",
      "\n",
      "The sun ignites its sparkling crest,  \n",
      "While moonlight soothes its restless breast.  \n",
      "It holds the secrets of the deep,  \n",
      "Where dreams and shadows softly sleep.  \n",
      "\n",
      "A boundless heart, both wild and free,  \n",
      "The ocean calls eternally.  \n",
      "Its voice, a hymn of endless grace\r\n"
     ]
    }
   ],
   "source": [
    "using Microsoft.SemanticKernel;\n",
    "using Microsoft.SemanticKernel.Connectors.OpenAI;\n",
    " \n",
    "#pragma warning disable SKEXP0001\n",
    "var openAiPromptSettings = new OpenAIPromptExecutionSettings\n",
    "{\n",
    "    MaxTokens = 100,\n",
    "    Temperature = 0.5,\n",
    "    TopP = 0.8\n",
    "};\n",
    "#pragma warning restore SKEXP0001\n",
    "\n",
    "var chat = kernel.GetRequiredService<IChatCompletionService>(); \n",
    "// Create a prompt that will trigger the function call\n",
    "string prompt = \"Write a short poem about the ocean.\";\n",
    "var response = await chat.GetChatMessageContentAsync(\"Write a short poem about the ocean.\", openAiPromptSettings, kernel);\n",
    "Console.WriteLine($\"Response: {response}\");"
   ]
  },
  {
   "cell_type": "markdown",
   "metadata": {},
   "source": [
    "You can adjust these parameters to experiment with different response styles and lengths. Try changing the temperature or max tokens and observe how the model's output changes."
   ]
  }
 ],
 "metadata": {
  "kernelspec": {
   "display_name": ".NET (C#)",
   "language": "C#",
   "name": ".net-csharp"
  },
  "language_info": {
   "name": "polyglot-notebook"
  },
  "polyglot_notebook": {
   "kernelInfo": {
    "defaultKernelName": "csharp",
    "items": [
     {
      "aliases": [],
      "name": "csharp"
     }
    ]
   }
  }
 },
 "nbformat": 4,
 "nbformat_minor": 2
}
