{
 "cells": [
  {
   "cell_type": "markdown",
   "metadata": {},
   "source": [
    "# Building Agents with Semantic Kernel\n",
    "\n",
    "This notebook demonstrates how to create and orchestrate agents workflows using Semantic Kernel.\n",
    "\n",
    "**Objectives:**\n",
    "- Understand how to define and use agents with Semantic Kernel.\n",
    "- Learn to orchestrate agent group chats and termination strategies."
   ]
  },
  {
   "cell_type": "markdown",
   "metadata": {},
   "source": [
    "## Setup\n",
    "\n",
    "In this section, we will set up the Semantic Kernel environment and configure it to use different LLM providers."
   ]
  },
  {
   "cell_type": "markdown",
   "metadata": {},
   "source": [
    "**Step 1**: Install NuGet packages\n",
    "\n",
    "To get started with Semantic Kernel, you need to install the required NuGet packages. These packages provide the core functionality for interacting with AI models and managing environment variables. Specifically:\n",
    "- `Microsoft.SemanticKernel` enables you to build and run AI-powered workflows.\n",
    "- `DotNetEnv` allows you to load environment variables from a `.env` file, making it easier to manage secrets and configuration settings."
   ]
  },
  {
   "cell_type": "code",
   "execution_count": 1,
   "metadata": {
    "polyglot_notebook": {
     "kernelName": "csharp"
    }
   },
   "outputs": [
    {
     "data": {
      "text/html": [
       "<div><div></div><div></div><div><strong>Installed Packages</strong><ul><li><span>DotNetEnv, 3.1.0</span></li><li><span>Microsoft.Extensions.AI.AzureAIInference, 9.5.0-preview.1.25265.7</span></li><li><span>Microsoft.SemanticKernel, 1.55.0</span></li><li><span>Microsoft.SemanticKernel.Agents.Core, 1.55.0</span></li></ul></div></div>"
      ]
     },
     "metadata": {},
     "output_type": "display_data"
    }
   ],
   "source": [
    "// Import Semantic Kernel and required packages\n",
    "#r \"nuget: Microsoft.SemanticKernel, 1.55.0\"\n",
    "#r \"nuget: Microsoft.Extensions.AI.AzureAIInference, 9.5.0-preview.1.25265.7\"\n",
    "#r \"nuget: Microsoft.SemanticKernel.Agents.Core\"\n",
    "#r \"nuget: DotNetEnv, 3.1.0\""
   ]
  },
  {
   "cell_type": "markdown",
   "metadata": {},
   "source": [
    "**Step 2**: Read environment variables\n",
    "\n",
    "In this step, we load these variables from a `.env` file (if present) so that they can be accessed by the application."
   ]
  },
  {
   "cell_type": "code",
   "execution_count": 2,
   "metadata": {
    "polyglot_notebook": {
     "kernelName": "csharp"
    }
   },
   "outputs": [
    {
     "name": "stdout",
     "output_type": "stream",
     "text": [
      "Loaded environment variables from e:\\profile_dev\\aiagent-workshop\\notebooks\\semantic-kernel\\../..\\.env\r\n"
     ]
    }
   ],
   "source": [
    "using DotNetEnv;\n",
    "using System.IO;\n",
    "\n",
    "var envFilePath = Path.Combine(Environment.CurrentDirectory, \"../..\", \".env\");\n",
    "if (File.Exists(envFilePath))\n",
    "{\n",
    "    Env.Load(envFilePath);\n",
    "    Console.WriteLine($\"Loaded environment variables from {envFilePath}\");\n",
    "}\n",
    "else\n",
    "{\n",
    "    Console.WriteLine($\"No .env file found at {envFilePath}\");\n",
    "}"
   ]
  },
  {
   "cell_type": "markdown",
   "metadata": {},
   "source": [
    "**Step 3**: Instantiate the Kernel and Chat Clients\n",
    "\n",
    "The Semantic Kernel is the core component that orchestrates AI services and plugins. In this step, we create and configure a Kernel instance, which will be used to interact with AI models and agents."
   ]
  },
  {
   "cell_type": "code",
   "execution_count": 44,
   "metadata": {
    "polyglot_notebook": {
     "kernelName": "csharp"
    }
   },
   "outputs": [],
   "source": [
    "using System.ClientModel;\n",
    "using OpenAI;\n",
    "using Microsoft.SemanticKernel;\n",
    "using Microsoft.SemanticKernel.ChatCompletion;\n",
    "using System.Text;\n",
    "\n",
    "OpenAIClient client = null;\n",
    "if(Environment.GetEnvironmentVariable(\"USE_AZURE_OPENAI\") == \"true\")\n",
    "{\n",
    "    // Configure Azure OpenAI client\n",
    "    var azureEndpoint = Environment.GetEnvironmentVariable(\"AZURE_OPENAI_ENDPOINT\");\n",
    "    var apiKey = Environment.GetEnvironmentVariable(\"AZURE_OPENAI_API_KEY\");\n",
    "    client = new OpenAIClient(new ApiKeyCredential(apiKey), new OpenAIClientOptions { Endpoint = new Uri(azureEndpoint) });\n",
    "}\n",
    "else if(Environment.GetEnvironmentVariable(\"USE_OPENAI\") == \"true\")\n",
    "{\n",
    "    // Configure OpenAI client\n",
    "    var apiKey = Environment.GetEnvironmentVariable(\"OPENAI_API_KEY\");\n",
    "    client = new OpenAIClient(new ApiKeyCredential(apiKey));\n",
    "}\n",
    "else if(Environment.GetEnvironmentVariable(\"USE_GITHUB\") == \"true\")\n",
    "{\n",
    "    // Configure GitHub model client\n",
    "    var uri = Environment.GetEnvironmentVariable(\"GITHUB_MODEL_ENDPOINT\");\n",
    "    var apiKey = Environment.GetEnvironmentVariable(\"GITHUB_TOKEN\");\n",
    "    client = new OpenAIClient(new ApiKeyCredential(apiKey), new OpenAIClientOptions { Endpoint = new Uri(uri) });\n",
    "}\n",
    "\n",
    "var modelId = Environment.GetEnvironmentVariable(\"MODEL\");\n",
    "// Create a chat completion service\n",
    "var builder = Kernel.CreateBuilder();\n",
    "builder.AddOpenAIChatCompletion(modelId, client); "
   ]
  },
  {
   "cell_type": "markdown",
   "metadata": {},
   "source": [
    "# Weather Agent\n",
    "\n",
    "This section demonstrates how to define and use a weather agent that calls an external weather API using a plugin. The agent will respond to user queries about the weather in a given city."
   ]
  },
  {
   "cell_type": "markdown",
   "metadata": {},
   "source": [
    "**Step 1:**: Create the plugin to call the weather API.\n",
    "Replace `YOUR_OPENWEATHERMAP_API_KEY` with your actual API key to enable real API calls."
   ]
  },
  {
   "cell_type": "code",
   "execution_count": 45,
   "metadata": {
    "polyglot_notebook": {
     "kernelName": "csharp"
    }
   },
   "outputs": [],
   "source": [
    "using Microsoft.SemanticKernel;\n",
    "using Microsoft.SemanticKernel.Agents;\n",
    "using Microsoft.SemanticKernel.ChatCompletion;\n",
    "using Microsoft.SemanticKernel.Connectors.OpenAI; \n",
    "using System.Net.Http;\n",
    "using System.Text.Json;\n",
    "\n",
    "public class WeatherPlugin\n",
    "{\n",
    "    private readonly HttpClient _httpClient = new HttpClient();\n",
    "\n",
    "    [KernelFunction]\n",
    "    public async Task<string> GetRandomWeather(string city)\n",
    "    {\n",
    "        var httpClient = new HttpClient();\n",
    "        var apiKey = Environment.GetEnvironmentVariable(\"OPENWEATHERMAP_API_KEY\");\n",
    "        var url = $\"https://api.openweathermap.org/data/2.5/weather?q={city}&appid={apiKey}&units=metric\";\n",
    "        var response = await httpClient.GetAsync(url);\n",
    "        response.EnsureSuccessStatusCode();\n",
    "        var json = await response.Content.ReadAsStringAsync();\n",
    "        return json;\n",
    "    }\n",
    "}"
   ]
  },
  {
   "cell_type": "markdown",
   "metadata": {},
   "source": [
    "**Step 2**: Create the weather agent and register it with the Kernel"
   ]
  },
  {
   "cell_type": "code",
   "execution_count": 46,
   "metadata": {
    "polyglot_notebook": {
     "kernelName": "csharp"
    }
   },
   "outputs": [],
   "source": [
    "\n",
    "var weatherAgentName = \"WeatherAgent\";\n",
    "var weatherAgentInstructions = @\"\n",
    "You are a weather assistant. Use the WeatherPlugin to answer questions about the weather in any city.\n",
    "If the user asks for other information, politely decline and suggest they ask about the weather instead.\n",
    "If the city is not specified, ask the user to provide a city name.\n",
    "If the weather data is not available, inform the user that the weather information could not be retrieved.\n",
    "\";\n",
    "\n",
    "// Get the chat completion service\n",
    "Kernel kernel = builder.Build();\n",
    "// Register the plugin with the kernel\n",
    "var weatherPlugin = new WeatherPlugin();\n",
    "kernel.Plugins.AddFromObject(weatherPlugin, \"WeatherPlugin\");\n",
    "\n",
    "// Define the weather agent\n",
    "ChatCompletionAgent weatherAgent = new()\n",
    "{\n",
    "    Name = weatherAgentName,\n",
    "    Instructions = weatherAgentInstructions,\n",
    "    Kernel = kernel,\n",
    "};\n"
   ]
  },
  {
   "cell_type": "markdown",
   "metadata": {},
   "source": [
    "**Step 3**: Invoke the agent with a specific city"
   ]
  },
  {
   "cell_type": "code",
   "execution_count": 47,
   "metadata": {
    "polyglot_notebook": {
     "kernelName": "csharp"
    }
   },
   "outputs": [
    {
     "name": "stdout",
     "output_type": "stream",
     "text": [
      "Australia is a large country with diverse weather depending on the region. Could you please specify a city or region in Australia so I can provide detailed weather information?\r\n"
     ]
    }
   ],
   "source": [
    "var invokeAgentAsync = async (string input) =>\n",
    "{\n",
    "    await foreach (var message in weatherAgent.InvokeAsync(input))\n",
    "    {\n",
    "        Console.WriteLine(message.Message.Content);\n",
    "    }\n",
    "};\n",
    "\n",
    "await invokeAgentAsync(\"What is the weather in Australia?\");"
   ]
  },
  {
   "cell_type": "markdown",
   "metadata": {},
   "source": [
    "## Step 2: Multi-Agent Chat Example (Drafter & Reviewer)\n",
    "\n",
    "This section demonstrates a multi-agent chat with a Drafter Agent and a Reviewer Agent. The Drafter creates a draft response for a given topic, and the Reviewer reviews and approves or suggests changes. The conversation is limited to two iterations."
   ]
  },
  {
   "cell_type": "code",
   "execution_count": 97,
   "metadata": {
    "polyglot_notebook": {
     "kernelName": "csharp"
    }
   },
   "outputs": [],
   "source": [
    "// Define agent instructions\n",
    "string writerAgentName = \"WriterAgent\";\n",
    "string writerInstructions = @\"\n",
    "You are WriterAgent, a helpful and knowledgeable assistant. Your task is to draft a concise, clear, and informative response on the given topic. \n",
    "- Focus on accuracy, clarity, and relevance.\n",
    "- Use professional language and structure your response logically.\n",
    "- Avoid unnecessary jargon or overly complex explanations.\n",
    "- Limit your draft to 3-5 sentences.\n",
    "- After drafting, wait for the ReviewerAgent's feedback before making any changes.\n",
    "\";\n",
    "\n",
    "// Create Drafter Agent\n",
    "ChatCompletionAgent writerAgent = new()\n",
    "{\n",
    "    Name = writerAgentName,\n",
    "    Instructions = writerInstructions,\n",
    "    Kernel = kernel,\n",
    "};\n"
   ]
  },
  {
   "cell_type": "code",
   "execution_count": 104,
   "metadata": {
    "polyglot_notebook": {
     "kernelName": "csharp"
    }
   },
   "outputs": [],
   "source": [
    "\n",
    "string reviewerAgentName = \"ReviewerAgent\";\n",
    "string reviewerInstructions = @\"\n",
    "You are ReviewerAgent, a critical and highly demanding reviewer. Your job is to rigorously review the WriterAgent's draft and either approve it or provide detailed, specific improvements.\n",
    "- Only reply with 'Approved.' if the draft is exceptionally clear, accurate, and perfectly structured.\n",
    "- Be direct, concise, and do not tolerate vague, incomplete, or imprecise answers.\n",
    "- Do not engage in chit chat or pleasantries.\n",
    "- Always prioritize thoroughness and precision in your feedback.\n",
    "\";\n",
    "\n",
    "// Create Reviewer Agent\n",
    "ChatCompletionAgent reviewerAgent = new()\n",
    "{\n",
    "    Name =reviewerAgentName,\n",
    "    Instructions = reviewerInstructions,\n",
    "    Kernel = kernel,\n",
    "};"
   ]
  },
  {
   "cell_type": "code",
   "execution_count": 105,
   "metadata": {
    "polyglot_notebook": {
     "kernelName": "csharp"
    }
   },
   "outputs": [],
   "source": [
    "using Microsoft.SemanticKernel.Agents.Chat;    \n",
    "    \n",
    "#pragma warning disable SKEXP0110 // Type is for evaluation purposes only and is subject to change or removal in future updates.\n",
    "KernelFunction selectionFunction =\n",
    "    AgentGroupChat.CreatePromptFunctionForStrategy(\n",
    "        $$$\"\"\"\n",
    "        Based on the conversation history, determine which participant should take the next turn.\n",
    "        Only state the name of the participant to take the next turn.\n",
    "        No participant should take more than one turn in a row.\n",
    "\n",
    "        Participants:\n",
    "        - {{{writerAgentName}}}\n",
    "        - {{{reviewerAgentName}}}\n",
    "\n",
    "        Rules:\n",
    "        - After user input, it is {{{writerAgentName}}}'s turn.\n",
    "        - After {{{writerAgentName}}}, it is {{{reviewerAgentName}}}'s turn.\n",
    "        - After {{{reviewerAgentName}}}, it is {{{writerAgentName}}}'s turn.\n",
    "\n",
    "        Conversation history:\n",
    "        {{$history}}\n",
    "        \"\"\",\n",
    "        safeParameterNames: \"history\");\n",
    "\n",
    "KernelFunction terminationFunction =\n",
    "    AgentGroupChat.CreatePromptFunctionForStrategy(\n",
    "        $$$\"\"\"\n",
    "        Review the conversation history to determine if the review process is complete.\n",
    "        If the most recent message from {{{reviewerAgentName}}} contains 'Approved.', respond with 'yes'.\n",
    "        Otherwise, respond with 'no'.\n",
    "\n",
    "        Conversation history:\n",
    "        {{$history}}\n",
    "        \"\"\",\n",
    "        safeParameterNames: \"history\");\n",
    "\n",
    "#pragma warning disable SKEXP0110 // Type is for evaluation purposes only and is subject to change or removal in future updates. Suppress this diagnostic to proceed.\n",
    "var executionSettings = new AgentGroupChatSettings()\n",
    "{\n",
    "    SelectionStrategy =\n",
    "new KernelFunctionSelectionStrategy(selectionFunction, kernel)\n",
    "{\n",
    "    HistoryVariableName = \"history\",\n",
    "    HistoryReducer = new ChatHistoryTruncationReducer(1),\n",
    "    ResultParser = (result) => result.GetValue<string>() ?? writerAgent.Name!,\n",
    "},\n",
    "    TerminationStrategy =\n",
    "new KernelFunctionTerminationStrategy(terminationFunction, kernel)\n",
    "{\n",
    "    HistoryVariableName = \"history\",\n",
    "    MaximumIterations = 6,\n",
    "    //HistoryReducer = new ChatHistoryTruncationReducer(2),\n",
    "    ResultParser = (result) => result.GetValue<string>()?.Contains(\"yes\", StringComparison.OrdinalIgnoreCase) ?? false,\n",
    "}};\n"
   ]
  },
  {
   "cell_type": "code",
   "execution_count": 106,
   "metadata": {
    "polyglot_notebook": {
     "kernelName": "csharp"
    }
   },
   "outputs": [
    {
     "name": "stdout",
     "output_type": "stream",
     "text": [
      "User Topic: What is the future of AI in healthcare?\n",
      "\r\n"
     ]
    },
    {
     "ename": "Error",
     "evalue": "Command cancelled.",
     "output_type": "error",
     "traceback": [
      "Command cancelled."
     ]
    }
   ],
   "source": [
    "using Microsoft.SemanticKernel;\n",
    "using Microsoft.SemanticKernel.Agents;\n",
    "using Microsoft.SemanticKernel.ChatCompletion;\n",
    "\n",
    "#pragma warning disable SKEXP0110 // Type is for evaluation purposes only and is subject to change or removal in future updates. Suppress this diagnostic to proceed.\n",
    "// Create the group chat\n",
    "AgentGroupChat groupChat = new(writerAgent, reviewerAgent)\n",
    "{\n",
    "    ExecutionSettings = executionSettings,\n",
    "};\n",
    "#pragma warning restore SKEXP0110 // Type is for evaluation purposes only and is subject to change or removal in future updates. Suppress this diagnostic to proceed.\n",
    "\n",
    "// Take a topic as input\n",
    "string topic = \"What is the future of AI in healthcare?\";\n",
    "Console.WriteLine($\"User Topic: {topic}\\n\");\n",
    "groupChat.AddChatMessage(new ChatMessageContent(AuthorRole.User, topic));\n",
    "\n",
    "// Run the group chat and print the conversation\n",
    "int turn = 1;\n",
    "await foreach (var message in groupChat.InvokeAsync())\n",
    "{\n",
    "    Console.WriteLine($\"Turn {turn++} [{message.Role}]: {message.Content}\\n\");\n",
    "}\n",
    "Console.WriteLine($\"[Chat Complete: {groupChat.IsComplete}]\");\n",
    "\n",
    "\n",
    "\n"
   ]
  }
 ],
 "metadata": {
  "kernelspec": {
   "display_name": ".NET (C#)",
   "language": "C#",
   "name": ".net-csharp"
  },
  "language_info": {
   "name": "polyglot-notebook"
  },
  "polyglot_notebook": {
   "kernelInfo": {
    "defaultKernelName": "csharp",
    "items": [
     {
      "aliases": [],
      "name": "csharp"
     }
    ]
   }
  }
 },
 "nbformat": 4,
 "nbformat_minor": 2
}
