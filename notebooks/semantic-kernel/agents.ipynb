{
 "cells": [
  {
   "cell_type": "markdown",
   "metadata": {},
   "source": [
    "# Building Agents with Semantic Kernel\n",
    "\n",
    "This notebook demonstrates how to create and orchestrate agents workflows using Semantic Kernel.\n",
    "\n",
    "**Objectives:**\n",
    "- Understand how to define and use agents with Semantic Kernel.\n",
    "- Learn to orchestrate agent group chats and termination strategies."
   ]
  },
  {
   "cell_type": "markdown",
   "metadata": {},
   "source": [
    "## Setup\n",
    "\n",
    "In this section, we will set up the Semantic Kernel environment and configure it to use different LLM providers."
   ]
  },
  {
   "cell_type": "markdown",
   "metadata": {},
   "source": [
    "**Step 1**: Install NuGet packages\n",
    "\n",
    "To get started with Semantic Kernel, you need to install the required NuGet packages. These packages provide the core functionality for interacting with AI models and managing environment variables. Specifically:\n",
    "- `Microsoft.SemanticKernel` enables you to build and run AI-powered workflows.\n",
    "- `DotNetEnv` allows you to load environment variables from a `.env` file, making it easier to manage secrets and configuration settings."
   ]
  },
  {
   "cell_type": "code",
   "execution_count": 2,
   "metadata": {
    "polyglot_notebook": {
     "kernelName": "csharp"
    }
   },
   "outputs": [
    {
     "data": {
      "text/html": [
       "<div><div></div><div></div><div><strong>Installed Packages</strong><ul><li><span>DotNetEnv, 3.1.0</span></li><li><span>Microsoft.Extensions.AI.AzureAIInference, 9.5.0-preview.1.25265.7</span></li><li><span>Microsoft.SemanticKernel, 1.55.0</span></li><li><span>Microsoft.SemanticKernel.Agents.Core, 1.56.0</span></li></ul></div></div>"
      ]
     },
     "metadata": {},
     "output_type": "display_data"
    }
   ],
   "source": [
    "// Import Semantic Kernel and required packages\n",
    "#r \"nuget: Microsoft.SemanticKernel, 1.55.0\"\n",
    "#r \"nuget: Microsoft.Extensions.AI.AzureAIInference, 9.5.0-preview.1.25265.7\"\n",
    "#r \"nuget: Microsoft.SemanticKernel.Agents.Core\"\n",
    "#r \"nuget: DotNetEnv, 3.1.0\""
   ]
  },
  {
   "cell_type": "markdown",
   "metadata": {},
   "source": [
    "**Step 2**: Read environment variables\n",
    "\n",
    "In this step, we load these variables from a `.env` file (if present) so that they can be accessed by the application."
   ]
  },
  {
   "cell_type": "code",
   "execution_count": 3,
   "metadata": {
    "polyglot_notebook": {
     "kernelName": "csharp"
    }
   },
   "outputs": [
    {
     "name": "stdout",
     "output_type": "stream",
     "text": [
      "Loaded environment variables from d:\\personal\\aiagent-workshop\\notebooks\\semantic-kernel\\../..\\.env\r\n"
     ]
    }
   ],
   "source": [
    "using DotNetEnv;\n",
    "using System.IO;\n",
    "\n",
    "var envFilePath = Path.Combine(Environment.CurrentDirectory, \"../..\", \".env\");\n",
    "if (File.Exists(envFilePath))\n",
    "{\n",
    "    Env.Load(envFilePath);\n",
    "    Console.WriteLine($\"Loaded environment variables from {envFilePath}\");\n",
    "}\n",
    "else\n",
    "{\n",
    "    Console.WriteLine($\"No .env file found at {envFilePath}\");\n",
    "}"
   ]
  },
  {
   "cell_type": "markdown",
   "metadata": {},
   "source": [
    "**Step 3**: Instantiate the Kernel and Chat Clients\n",
    "\n",
    "The Semantic Kernel is the core component that orchestrates AI services and plugins. In this step, we create and configure a Kernel instance, which will be used to interact with AI models and agents."
   ]
  },
  {
   "cell_type": "code",
   "execution_count": 4,
   "metadata": {
    "polyglot_notebook": {
     "kernelName": "csharp"
    }
   },
   "outputs": [],
   "source": [
    "using System.ClientModel;\n",
    "using OpenAI;\n",
    "using Microsoft.SemanticKernel;\n",
    "using Microsoft.SemanticKernel.ChatCompletion;\n",
    "using System.Text;\n",
    "\n",
    "OpenAIClient client = null;\n",
    "if(Environment.GetEnvironmentVariable(\"USE_AZURE_OPENAI\") == \"true\")\n",
    "{\n",
    "    // Configure Azure OpenAI client\n",
    "    var azureEndpoint = Environment.GetEnvironmentVariable(\"AZURE_OPENAI_ENDPOINT\");\n",
    "    var apiKey = Environment.GetEnvironmentVariable(\"AZURE_OPENAI_API_KEY\");\n",
    "    client = new OpenAIClient(new ApiKeyCredential(apiKey), new OpenAIClientOptions { Endpoint = new Uri(azureEndpoint) });\n",
    "}\n",
    "else if(Environment.GetEnvironmentVariable(\"USE_OPENAI\") == \"true\")\n",
    "{\n",
    "    // Configure OpenAI client\n",
    "    var apiKey = Environment.GetEnvironmentVariable(\"OPENAI_API_KEY\");\n",
    "    client = new OpenAIClient(new ApiKeyCredential(apiKey));\n",
    "}\n",
    "else if(Environment.GetEnvironmentVariable(\"USE_GITHUB\") == \"true\")\n",
    "{\n",
    "    // Configure GitHub model client\n",
    "    var uri = Environment.GetEnvironmentVariable(\"GITHUB_MODEL_ENDPOINT\");\n",
    "    var apiKey = Environment.GetEnvironmentVariable(\"GITHUB_TOKEN\");\n",
    "    client = new OpenAIClient(new ApiKeyCredential(apiKey), new OpenAIClientOptions { Endpoint = new Uri(uri) });\n",
    "}\n",
    "\n",
    "var modelId = Environment.GetEnvironmentVariable(\"MODEL\");\n",
    "// Create a chat completion service\n",
    "var builder = Kernel.CreateBuilder();\n",
    "builder.AddOpenAIChatCompletion(modelId, client); "
   ]
  },
  {
   "cell_type": "markdown",
   "metadata": {},
   "source": [
    "# Bike Inventory Agent\n",
    "\n",
    "This section demonstrates how to define and use a bike inventory agent that answers questions about bike availability and features at Contoso Bike Store."
   ]
  },
  {
   "cell_type": "markdown",
   "metadata": {},
   "source": [
    "**Step 1:** Create the plugin to simulate the bike inventory."
   ]
  },
  {
   "cell_type": "code",
   "execution_count": 17,
   "metadata": {
    "polyglot_notebook": {
     "kernelName": "csharp"
    }
   },
   "outputs": [],
   "source": [
    "using Microsoft.SemanticKernel;\n",
    "using Microsoft.SemanticKernel.Agents;\n",
    "using Microsoft.SemanticKernel.ChatCompletion;\n",
    "using Microsoft.SemanticKernel.Connectors.OpenAI;\n",
    "using System.Collections.Generic;\n",
    "\n",
    "public class BikeInventoryPlugin\n",
    "{\n",
    "    private readonly Dictionary<string, string> _inventory = new()\n",
    "    {\n",
    "        { \"Contoso Explorer\", \"A rugged mountain bike suitable for off-road and trail riding.\" },\n",
    "        { \"Contoso CityLite\", \"A lightweight city bike perfect for commuting and urban rides.\" },\n",
    "        { \"Contoso TrailBlazer\", \"A versatile hybrid bike for both city and light trail use.\" },\n",
    "        { \"Contoso Speedster\", \"A fast road bike designed for speed and long-distance rides.\" }\n",
    "    };\n",
    "\n",
    "    [KernelFunction]\n",
    "    public string CheckBikeAvailability(string model)\n",
    "    {\n",
    "        if (_inventory.ContainsKey(model))\n",
    "            return $\"Yes, the {model} is available. {model} details: {_inventory[model]}\";\n",
    "        return $\"Sorry, the {model} is currently out of stock.\";\n",
    "    }\n",
    "\n",
    "    [KernelFunction]\n",
    "    public string ListAvailableBikes()\n",
    "    {\n",
    "        return \"Available bikes: \" + string.Join(\", \", _inventory.Keys);\n",
    "    }\n",
    "}"
   ]
  },
  {
   "cell_type": "markdown",
   "metadata": {},
   "source": [
    "**Step 2**: Create the bike inventory agent and register it with the Kernel"
   ]
  },
  {
   "cell_type": "code",
   "execution_count": 26,
   "metadata": {
    "polyglot_notebook": {
     "kernelName": "csharp"
    }
   },
   "outputs": [],
   "source": [
    "\n",
    "var bikeInventoryAgentName = \"BikeInventoryAgent\";\n",
    "var bikeInventoryAgentInstructions = @\"\n",
    "You are a helpful assistant for Contoso Bike Store. Use the BikeInventoryPlugin to answer questions about bike availability and features.\n",
    "If the user asks for a bike that is not in stock, inform them politely.\n",
    "If the user asks for a list of available bikes, provide the list.\n",
    "If the user asks for other information, politely decline and suggest they ask about bikes in the store.\n",
    "Always respond in a single turn.\n",
    "\";\n",
    "\n",
    "// Get the chat completion service\n",
    "Kernel kernel = builder.Build();\n",
    "// Register the plugin with the kernel\n",
    "var bikeInventoryPlugin = new BikeInventoryPlugin();\n",
    "kernel.Plugins.AddFromObject(bikeInventoryPlugin, \"BikeInventoryPlugin\");\n",
    "\n",
    "// Define the bike inventory agent\n",
    "ChatCompletionAgent bikeInventoryAgent = new()\n",
    "{\n",
    "    Name = bikeInventoryAgentName,\n",
    "    Instructions = bikeInventoryAgentInstructions,\n",
    "    Kernel = kernel,\n",
    "};\n"
   ]
  },
  {
   "cell_type": "markdown",
   "metadata": {},
   "source": [
    "**Step 3**: Invoke the agent with different bike-related queries"
   ]
  },
  {
   "cell_type": "code",
   "execution_count": 27,
   "metadata": {
    "polyglot_notebook": {
     "kernelName": "csharp"
    }
   },
   "outputs": [],
   "source": [
    "var invokeAgentAsync = async (string input) =>\n",
    "{\n",
    "    await foreach (var message in bikeInventoryAgent.InvokeAsync(input))\n",
    "    {\n",
    "        Console.WriteLine(message.Message.Content);\n",
    "    }\n",
    "};"
   ]
  },
  {
   "cell_type": "markdown",
   "metadata": {},
   "source": [
    "**Step 4** Now let us try invoking the agent with different queries.\n"
   ]
  },
  {
   "cell_type": "markdown",
   "metadata": {},
   "source": [
    "**Query 1:** Check if the Contoso Speedster is available."
   ]
  },
  {
   "cell_type": "code",
   "execution_count": 28,
   "metadata": {
    "polyglot_notebook": {
     "kernelName": "csharp"
    }
   },
   "outputs": [
    {
     "name": "stdout",
     "output_type": "stream",
     "text": [
      "Let me check that for you! One moment. \n",
      "\n",
      "The **Contoso Speedster** is currently **not in stock**. Let me know if you'd like to explore other available bikes!\r\n"
     ]
    }
   ],
   "source": [
    "await invokeAgentAsync(\"Is the Contoso Speedster available?\");"
   ]
  },
  {
   "cell_type": "markdown",
   "metadata": {},
   "source": [
    "**Query 2:** List all available bikes."
   ]
  },
  {
   "cell_type": "code",
   "execution_count": 29,
   "metadata": {
    "polyglot_notebook": {
     "kernelName": "csharp"
    }
   },
   "outputs": [
    {
     "name": "stdout",
     "output_type": "stream",
     "text": [
      "Certainly! Here are the bikes we currently have in stock at Contoso Bike Store:\n",
      "\n",
      "1. **Mountain Explorer 5000** - A durable mountain bike suited for rugged terrain.\n",
      "2. **Roadster Pro X** - A lightweight road bike perfect for speed and endurance.\n",
      "3. **City Cruiser 200** - A comfortable bike ideal for city commuting.\n",
      "4. **Trail Blazer XT** - A versatile bike great for both trails and casual rides.\n",
      "5. **Kids FunRider** - A safe and colorful bike designed for children.\n",
      "\n",
      "Let me know if you'd like details about any specific bike!\r\n"
     ]
    }
   ],
   "source": [
    "await invokeAgentAsync(\"Can you list all available bikes?\");"
   ]
  },
  {
   "cell_type": "markdown",
   "metadata": {},
   "source": [
    "**Query 3:** Ask about car accessories (an unsupported query)."
   ]
  },
  {
   "cell_type": "code",
   "execution_count": 13,
   "metadata": {
    "polyglot_notebook": {
     "kernelName": "csharp"
    }
   },
   "outputs": [
    {
     "name": "stdout",
     "output_type": "stream",
     "text": [
      "I'm sorry, but I can only assist with questions about bike availability and features at Contoso Bike Store. If you’d like, you can ask about the bikes we have in stock, and I’ll be happy to help!\r\n"
     ]
    }
   ],
   "source": [
    "await invokeAgentAsync(\"Do you sell car accessories?\");"
   ]
  }
 ],
 "metadata": {
  "kernelspec": {
   "display_name": ".NET (C#)",
   "language": "C#",
   "name": ".net-csharp"
  },
  "language_info": {
   "name": "polyglot-notebook"
  },
  "polyglot_notebook": {
   "kernelInfo": {
    "defaultKernelName": "csharp",
    "items": [
     {
      "aliases": [],
      "name": "csharp"
     }
    ]
   }
  }
 },
 "nbformat": 4,
 "nbformat_minor": 2
}
